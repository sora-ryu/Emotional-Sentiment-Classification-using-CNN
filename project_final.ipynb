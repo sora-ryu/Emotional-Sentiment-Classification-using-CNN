{
  "nbformat": 4,
  "nbformat_minor": 0,
  "metadata": {
    "colab": {
      "name": "project_final.ipynb",
      "provenance": [],
      "collapsed_sections": [],
      "toc_visible": true
    },
    "kernelspec": {
      "name": "python3",
      "display_name": "Python 3"
    },
    "language_info": {
      "name": "python"
    },
    "widgets": {
      "application/vnd.jupyter.widget-state+json": {
        "9c8c86eb2495419eb71f568cee39641b": {
          "model_module": "@jupyter-widgets/controls",
          "model_name": "VBoxModel",
          "model_module_version": "1.5.0",
          "state": {
            "_view_name": "VBoxView",
            "_dom_classes": [],
            "_model_name": "VBoxModel",
            "_view_module": "@jupyter-widgets/controls",
            "_model_module_version": "1.5.0",
            "_view_count": null,
            "_view_module_version": "1.5.0",
            "box_style": "",
            "layout": "IPY_MODEL_78318fb3fd90466da377bd6e9091e515",
            "_model_module": "@jupyter-widgets/controls",
            "children": [
              "IPY_MODEL_a6d3c6d1e9c84d5a8872f0c49c37769b",
              "IPY_MODEL_7eb4022efec942268787a34c4221078e"
            ]
          }
        },
        "78318fb3fd90466da377bd6e9091e515": {
          "model_module": "@jupyter-widgets/base",
          "model_name": "LayoutModel",
          "model_module_version": "1.2.0",
          "state": {
            "_view_name": "LayoutView",
            "grid_template_rows": null,
            "right": null,
            "justify_content": null,
            "_view_module": "@jupyter-widgets/base",
            "overflow": null,
            "_model_module_version": "1.2.0",
            "_view_count": null,
            "flex_flow": null,
            "width": null,
            "min_width": null,
            "border": null,
            "align_items": null,
            "bottom": null,
            "_model_module": "@jupyter-widgets/base",
            "top": null,
            "grid_column": null,
            "overflow_y": null,
            "overflow_x": null,
            "grid_auto_flow": null,
            "grid_area": null,
            "grid_template_columns": null,
            "flex": null,
            "_model_name": "LayoutModel",
            "justify_items": null,
            "grid_row": null,
            "max_height": null,
            "align_content": null,
            "visibility": null,
            "align_self": null,
            "height": null,
            "min_height": null,
            "padding": null,
            "grid_auto_rows": null,
            "grid_gap": null,
            "max_width": null,
            "order": null,
            "_view_module_version": "1.2.0",
            "grid_template_areas": null,
            "object_position": null,
            "object_fit": null,
            "grid_auto_columns": null,
            "margin": null,
            "display": null,
            "left": null
          }
        },
        "a6d3c6d1e9c84d5a8872f0c49c37769b": {
          "model_module": "@jupyter-widgets/controls",
          "model_name": "LabelModel",
          "model_module_version": "1.5.0",
          "state": {
            "_view_name": "LabelView",
            "style": "IPY_MODEL_0b2a22914ef94398a9605691b543dde1",
            "_dom_classes": [],
            "description": "",
            "_model_name": "LabelModel",
            "placeholder": "​",
            "_view_module": "@jupyter-widgets/controls",
            "_model_module_version": "1.5.0",
            "value": " 1.51MB of 1.51MB uploaded (0.00MB deduped)\r",
            "_view_count": null,
            "_view_module_version": "1.5.0",
            "description_tooltip": null,
            "_model_module": "@jupyter-widgets/controls",
            "layout": "IPY_MODEL_966a9210356a44d2bf84984edb58b616"
          }
        },
        "7eb4022efec942268787a34c4221078e": {
          "model_module": "@jupyter-widgets/controls",
          "model_name": "FloatProgressModel",
          "model_module_version": "1.5.0",
          "state": {
            "_view_name": "ProgressView",
            "style": "IPY_MODEL_6d17ef60c77d47a78f2633bdeaad46cf",
            "_dom_classes": [],
            "description": "",
            "_model_name": "FloatProgressModel",
            "bar_style": "",
            "max": 1,
            "_view_module": "@jupyter-widgets/controls",
            "_model_module_version": "1.5.0",
            "value": 1,
            "_view_count": null,
            "_view_module_version": "1.5.0",
            "orientation": "horizontal",
            "min": 0,
            "description_tooltip": null,
            "_model_module": "@jupyter-widgets/controls",
            "layout": "IPY_MODEL_78f8b443e3de4c4987be0cfda7feae28"
          }
        },
        "0b2a22914ef94398a9605691b543dde1": {
          "model_module": "@jupyter-widgets/controls",
          "model_name": "DescriptionStyleModel",
          "model_module_version": "1.5.0",
          "state": {
            "_view_name": "StyleView",
            "_model_name": "DescriptionStyleModel",
            "description_width": "",
            "_view_module": "@jupyter-widgets/base",
            "_model_module_version": "1.5.0",
            "_view_count": null,
            "_view_module_version": "1.2.0",
            "_model_module": "@jupyter-widgets/controls"
          }
        },
        "966a9210356a44d2bf84984edb58b616": {
          "model_module": "@jupyter-widgets/base",
          "model_name": "LayoutModel",
          "model_module_version": "1.2.0",
          "state": {
            "_view_name": "LayoutView",
            "grid_template_rows": null,
            "right": null,
            "justify_content": null,
            "_view_module": "@jupyter-widgets/base",
            "overflow": null,
            "_model_module_version": "1.2.0",
            "_view_count": null,
            "flex_flow": null,
            "width": null,
            "min_width": null,
            "border": null,
            "align_items": null,
            "bottom": null,
            "_model_module": "@jupyter-widgets/base",
            "top": null,
            "grid_column": null,
            "overflow_y": null,
            "overflow_x": null,
            "grid_auto_flow": null,
            "grid_area": null,
            "grid_template_columns": null,
            "flex": null,
            "_model_name": "LayoutModel",
            "justify_items": null,
            "grid_row": null,
            "max_height": null,
            "align_content": null,
            "visibility": null,
            "align_self": null,
            "height": null,
            "min_height": null,
            "padding": null,
            "grid_auto_rows": null,
            "grid_gap": null,
            "max_width": null,
            "order": null,
            "_view_module_version": "1.2.0",
            "grid_template_areas": null,
            "object_position": null,
            "object_fit": null,
            "grid_auto_columns": null,
            "margin": null,
            "display": null,
            "left": null
          }
        },
        "6d17ef60c77d47a78f2633bdeaad46cf": {
          "model_module": "@jupyter-widgets/controls",
          "model_name": "ProgressStyleModel",
          "model_module_version": "1.5.0",
          "state": {
            "_view_name": "StyleView",
            "_model_name": "ProgressStyleModel",
            "description_width": "",
            "_view_module": "@jupyter-widgets/base",
            "_model_module_version": "1.5.0",
            "_view_count": null,
            "_view_module_version": "1.2.0",
            "bar_color": null,
            "_model_module": "@jupyter-widgets/controls"
          }
        },
        "78f8b443e3de4c4987be0cfda7feae28": {
          "model_module": "@jupyter-widgets/base",
          "model_name": "LayoutModel",
          "model_module_version": "1.2.0",
          "state": {
            "_view_name": "LayoutView",
            "grid_template_rows": null,
            "right": null,
            "justify_content": null,
            "_view_module": "@jupyter-widgets/base",
            "overflow": null,
            "_model_module_version": "1.2.0",
            "_view_count": null,
            "flex_flow": null,
            "width": null,
            "min_width": null,
            "border": null,
            "align_items": null,
            "bottom": null,
            "_model_module": "@jupyter-widgets/base",
            "top": null,
            "grid_column": null,
            "overflow_y": null,
            "overflow_x": null,
            "grid_auto_flow": null,
            "grid_area": null,
            "grid_template_columns": null,
            "flex": null,
            "_model_name": "LayoutModel",
            "justify_items": null,
            "grid_row": null,
            "max_height": null,
            "align_content": null,
            "visibility": null,
            "align_self": null,
            "height": null,
            "min_height": null,
            "padding": null,
            "grid_auto_rows": null,
            "grid_gap": null,
            "max_width": null,
            "order": null,
            "_view_module_version": "1.2.0",
            "grid_template_areas": null,
            "object_position": null,
            "object_fit": null,
            "grid_auto_columns": null,
            "margin": null,
            "display": null,
            "left": null
          }
        }
      }
    },
    "accelerator": "GPU"
  },
  "cells": [
    {
      "cell_type": "code",
      "metadata": {
        "id": "UkeYyS14BQNB"
      },
      "source": [
        "from __future__ import print_function\n",
        "import tensorflow as tf\n",
        "from tensorflow import keras\n",
        "from tensorflow.keras import callbacks, layers, models\n",
        "from tensorflow.keras.utils import to_categorical\n",
        "\n",
        "import numpy as np\n",
        "\n",
        "import matplotlib.pyplot as plt\n",
        "import pandas as pd\n",
        "\n",
        "from sklearn.preprocessing import StandardScaler\n",
        "from sklearn.preprocessing import LabelEncoder\n",
        "from sklearn.model_selection import cross_val_score, train_test_split\n",
        "from sklearn.metrics import confusion_matrix, classification_report\n",
        "import seaborn as sns\n",
        "\n",
        "from sklearn.pipeline import Pipeline\n",
        "from sklearn.neural_network import MLPClassifier\n",
        "from sklearn.ensemble import RandomForestClassifier\n",
        "\n",
        "from google.colab import files\n",
        "\n",
        "from sklearn.feature_selection import mutual_info_classif as MIC"
      ],
      "execution_count": 1,
      "outputs": []
    },
    {
      "cell_type": "markdown",
      "metadata": {
        "id": "XZS0Hf4wK_oT"
      },
      "source": [
        "# Install Required Packages"
      ]
    },
    {
      "cell_type": "code",
      "metadata": {
        "id": "fHjSXwJZNo_F",
        "colab": {
          "base_uri": "https://localhost:8080/"
        },
        "outputId": "27b216cf-ba71-453f-9fd9-485fee1f4b16"
      },
      "source": [
        "!pip install wandb"
      ],
      "execution_count": 2,
      "outputs": [
        {
          "output_type": "stream",
          "name": "stdout",
          "text": [
            "Collecting wandb\n",
            "  Downloading wandb-0.12.9-py2.py3-none-any.whl (1.7 MB)\n",
            "\u001b[K     |████████████████████████████████| 1.7 MB 5.1 MB/s \n",
            "\u001b[?25hRequirement already satisfied: promise<3,>=2.0 in /usr/local/lib/python3.7/dist-packages (from wandb) (2.3)\n",
            "Collecting sentry-sdk>=1.0.0\n",
            "  Downloading sentry_sdk-1.5.1-py2.py3-none-any.whl (140 kB)\n",
            "\u001b[K     |████████████████████████████████| 140 kB 47.0 MB/s \n",
            "\u001b[?25hCollecting configparser>=3.8.1\n",
            "  Downloading configparser-5.2.0-py3-none-any.whl (19 kB)\n",
            "Requirement already satisfied: protobuf>=3.12.0 in /usr/local/lib/python3.7/dist-packages (from wandb) (3.17.3)\n",
            "Collecting yaspin>=1.0.0\n",
            "  Downloading yaspin-2.1.0-py3-none-any.whl (18 kB)\n",
            "Requirement already satisfied: Click!=8.0.0,>=7.0 in /usr/local/lib/python3.7/dist-packages (from wandb) (7.1.2)\n",
            "Requirement already satisfied: python-dateutil>=2.6.1 in /usr/local/lib/python3.7/dist-packages (from wandb) (2.8.2)\n",
            "Collecting docker-pycreds>=0.4.0\n",
            "  Downloading docker_pycreds-0.4.0-py2.py3-none-any.whl (9.0 kB)\n",
            "Collecting pathtools\n",
            "  Downloading pathtools-0.1.2.tar.gz (11 kB)\n",
            "Collecting shortuuid>=0.5.0\n",
            "  Downloading shortuuid-1.0.8-py3-none-any.whl (9.5 kB)\n",
            "Requirement already satisfied: six>=1.13.0 in /usr/local/lib/python3.7/dist-packages (from wandb) (1.15.0)\n",
            "Requirement already satisfied: requests<3,>=2.0.0 in /usr/local/lib/python3.7/dist-packages (from wandb) (2.23.0)\n",
            "Requirement already satisfied: psutil>=5.0.0 in /usr/local/lib/python3.7/dist-packages (from wandb) (5.4.8)\n",
            "Requirement already satisfied: PyYAML in /usr/local/lib/python3.7/dist-packages (from wandb) (3.13)\n",
            "Collecting GitPython>=1.0.0\n",
            "  Downloading GitPython-3.1.24-py3-none-any.whl (180 kB)\n",
            "\u001b[K     |████████████████████████████████| 180 kB 45.8 MB/s \n",
            "\u001b[?25hCollecting subprocess32>=3.5.3\n",
            "  Downloading subprocess32-3.5.4.tar.gz (97 kB)\n",
            "\u001b[K     |████████████████████████████████| 97 kB 6.1 MB/s \n",
            "\u001b[?25hCollecting gitdb<5,>=4.0.1\n",
            "  Downloading gitdb-4.0.9-py3-none-any.whl (63 kB)\n",
            "\u001b[K     |████████████████████████████████| 63 kB 1.8 MB/s \n",
            "\u001b[?25hRequirement already satisfied: typing-extensions>=3.7.4.3 in /usr/local/lib/python3.7/dist-packages (from GitPython>=1.0.0->wandb) (3.10.0.2)\n",
            "Collecting smmap<6,>=3.0.1\n",
            "  Downloading smmap-5.0.0-py3-none-any.whl (24 kB)\n",
            "Requirement already satisfied: chardet<4,>=3.0.2 in /usr/local/lib/python3.7/dist-packages (from requests<3,>=2.0.0->wandb) (3.0.4)\n",
            "Requirement already satisfied: urllib3!=1.25.0,!=1.25.1,<1.26,>=1.21.1 in /usr/local/lib/python3.7/dist-packages (from requests<3,>=2.0.0->wandb) (1.24.3)\n",
            "Requirement already satisfied: certifi>=2017.4.17 in /usr/local/lib/python3.7/dist-packages (from requests<3,>=2.0.0->wandb) (2021.10.8)\n",
            "Requirement already satisfied: idna<3,>=2.5 in /usr/local/lib/python3.7/dist-packages (from requests<3,>=2.0.0->wandb) (2.10)\n",
            "Requirement already satisfied: termcolor<2.0.0,>=1.1.0 in /usr/local/lib/python3.7/dist-packages (from yaspin>=1.0.0->wandb) (1.1.0)\n",
            "Building wheels for collected packages: subprocess32, pathtools\n",
            "  Building wheel for subprocess32 (setup.py) ... \u001b[?25l\u001b[?25hdone\n",
            "  Created wheel for subprocess32: filename=subprocess32-3.5.4-py3-none-any.whl size=6502 sha256=bd5a102af6f097e14a066f4535f09c6af4d5ed032219e91704c25860f739332b\n",
            "  Stored in directory: /root/.cache/pip/wheels/50/ca/fa/8fca8d246e64f19488d07567547ddec8eb084e8c0d7a59226a\n",
            "  Building wheel for pathtools (setup.py) ... \u001b[?25l\u001b[?25hdone\n",
            "  Created wheel for pathtools: filename=pathtools-0.1.2-py3-none-any.whl size=8807 sha256=425480fd1bdaca91d67be145bda7be83c7289de3bcc097948637234ea852dd51\n",
            "  Stored in directory: /root/.cache/pip/wheels/3e/31/09/fa59cef12cdcfecc627b3d24273699f390e71828921b2cbba2\n",
            "Successfully built subprocess32 pathtools\n",
            "Installing collected packages: smmap, gitdb, yaspin, subprocess32, shortuuid, sentry-sdk, pathtools, GitPython, docker-pycreds, configparser, wandb\n",
            "Successfully installed GitPython-3.1.24 configparser-5.2.0 docker-pycreds-0.4.0 gitdb-4.0.9 pathtools-0.1.2 sentry-sdk-1.5.1 shortuuid-1.0.8 smmap-5.0.0 subprocess32-3.5.4 wandb-0.12.9 yaspin-2.1.0\n"
          ]
        }
      ]
    },
    {
      "cell_type": "code",
      "metadata": {
        "colab": {
          "base_uri": "https://localhost:8080/"
        },
        "id": "7F7S_m_GuHuj",
        "outputId": "3d6d00fb-754f-484b-cf99-677174dc278b"
      },
      "source": [
        "!pip install visualkeras"
      ],
      "execution_count": 3,
      "outputs": [
        {
          "output_type": "stream",
          "name": "stdout",
          "text": [
            "Collecting visualkeras\n",
            "  Downloading visualkeras-0.0.2-py3-none-any.whl (12 kB)\n",
            "Requirement already satisfied: numpy>=1.18.1 in /usr/local/lib/python3.7/dist-packages (from visualkeras) (1.19.5)\n",
            "Requirement already satisfied: pillow>=6.2.0 in /usr/local/lib/python3.7/dist-packages (from visualkeras) (7.1.2)\n",
            "Collecting aggdraw>=1.3.11\n",
            "  Downloading aggdraw-1.3.12-cp37-cp37m-manylinux2010_x86_64.whl (795 kB)\n",
            "\u001b[K     |████████████████████████████████| 795 kB 5.4 MB/s \n",
            "\u001b[?25hInstalling collected packages: aggdraw, visualkeras\n",
            "Successfully installed aggdraw-1.3.12 visualkeras-0.0.2\n"
          ]
        }
      ]
    },
    {
      "cell_type": "code",
      "metadata": {
        "colab": {
          "base_uri": "https://localhost:8080/"
        },
        "id": "vGX_88Y_Kh9-",
        "outputId": "23f59a07-d63d-432e-b0a3-82a33fd5f411"
      },
      "source": [
        "!pip install dataframe-image"
      ],
      "execution_count": 4,
      "outputs": [
        {
          "output_type": "stream",
          "name": "stdout",
          "text": [
            "Collecting dataframe-image\n",
            "  Downloading dataframe_image-0.1.1-py3-none-any.whl (32 kB)\n",
            "Requirement already satisfied: matplotlib>=3.1 in /usr/local/lib/python3.7/dist-packages (from dataframe-image) (3.2.2)\n",
            "Requirement already satisfied: pandas>=0.24 in /usr/local/lib/python3.7/dist-packages (from dataframe-image) (1.1.5)\n",
            "Requirement already satisfied: beautifulsoup4 in /usr/local/lib/python3.7/dist-packages (from dataframe-image) (4.6.3)\n",
            "Requirement already satisfied: requests in /usr/local/lib/python3.7/dist-packages (from dataframe-image) (2.23.0)\n",
            "Collecting aiohttp\n",
            "  Downloading aiohttp-3.8.1-cp37-cp37m-manylinux_2_5_x86_64.manylinux1_x86_64.manylinux_2_12_x86_64.manylinux2010_x86_64.whl (1.1 MB)\n",
            "\u001b[K     |████████████████████████████████| 1.1 MB 4.4 MB/s \n",
            "\u001b[?25hRequirement already satisfied: nbconvert>=5 in /usr/local/lib/python3.7/dist-packages (from dataframe-image) (5.6.1)\n",
            "Requirement already satisfied: numpy>=1.11 in /usr/local/lib/python3.7/dist-packages (from matplotlib>=3.1->dataframe-image) (1.19.5)\n",
            "Requirement already satisfied: pyparsing!=2.0.4,!=2.1.2,!=2.1.6,>=2.0.1 in /usr/local/lib/python3.7/dist-packages (from matplotlib>=3.1->dataframe-image) (3.0.6)\n",
            "Requirement already satisfied: kiwisolver>=1.0.1 in /usr/local/lib/python3.7/dist-packages (from matplotlib>=3.1->dataframe-image) (1.3.2)\n",
            "Requirement already satisfied: python-dateutil>=2.1 in /usr/local/lib/python3.7/dist-packages (from matplotlib>=3.1->dataframe-image) (2.8.2)\n",
            "Requirement already satisfied: cycler>=0.10 in /usr/local/lib/python3.7/dist-packages (from matplotlib>=3.1->dataframe-image) (0.11.0)\n",
            "Requirement already satisfied: defusedxml in /usr/local/lib/python3.7/dist-packages (from nbconvert>=5->dataframe-image) (0.7.1)\n",
            "Requirement already satisfied: bleach in /usr/local/lib/python3.7/dist-packages (from nbconvert>=5->dataframe-image) (4.1.0)\n",
            "Requirement already satisfied: jupyter-core in /usr/local/lib/python3.7/dist-packages (from nbconvert>=5->dataframe-image) (4.9.1)\n",
            "Requirement already satisfied: jinja2>=2.4 in /usr/local/lib/python3.7/dist-packages (from nbconvert>=5->dataframe-image) (2.11.3)\n",
            "Requirement already satisfied: nbformat>=4.4 in /usr/local/lib/python3.7/dist-packages (from nbconvert>=5->dataframe-image) (5.1.3)\n",
            "Requirement already satisfied: pandocfilters>=1.4.1 in /usr/local/lib/python3.7/dist-packages (from nbconvert>=5->dataframe-image) (1.5.0)\n",
            "Requirement already satisfied: pygments in /usr/local/lib/python3.7/dist-packages (from nbconvert>=5->dataframe-image) (2.6.1)\n",
            "Requirement already satisfied: traitlets>=4.2 in /usr/local/lib/python3.7/dist-packages (from nbconvert>=5->dataframe-image) (5.1.1)\n",
            "Requirement already satisfied: testpath in /usr/local/lib/python3.7/dist-packages (from nbconvert>=5->dataframe-image) (0.5.0)\n",
            "Requirement already satisfied: mistune<2,>=0.8.1 in /usr/local/lib/python3.7/dist-packages (from nbconvert>=5->dataframe-image) (0.8.4)\n",
            "Requirement already satisfied: entrypoints>=0.2.2 in /usr/local/lib/python3.7/dist-packages (from nbconvert>=5->dataframe-image) (0.3)\n",
            "Requirement already satisfied: MarkupSafe>=0.23 in /usr/local/lib/python3.7/dist-packages (from jinja2>=2.4->nbconvert>=5->dataframe-image) (2.0.1)\n",
            "Requirement already satisfied: ipython-genutils in /usr/local/lib/python3.7/dist-packages (from nbformat>=4.4->nbconvert>=5->dataframe-image) (0.2.0)\n",
            "Requirement already satisfied: jsonschema!=2.5.0,>=2.4 in /usr/local/lib/python3.7/dist-packages (from nbformat>=4.4->nbconvert>=5->dataframe-image) (2.6.0)\n",
            "Requirement already satisfied: pytz>=2017.2 in /usr/local/lib/python3.7/dist-packages (from pandas>=0.24->dataframe-image) (2018.9)\n",
            "Requirement already satisfied: six>=1.5 in /usr/local/lib/python3.7/dist-packages (from python-dateutil>=2.1->matplotlib>=3.1->dataframe-image) (1.15.0)\n",
            "Requirement already satisfied: attrs>=17.3.0 in /usr/local/lib/python3.7/dist-packages (from aiohttp->dataframe-image) (21.2.0)\n",
            "Collecting yarl<2.0,>=1.0\n",
            "  Downloading yarl-1.7.2-cp37-cp37m-manylinux_2_5_x86_64.manylinux1_x86_64.manylinux_2_12_x86_64.manylinux2010_x86_64.whl (271 kB)\n",
            "\u001b[K     |████████████████████████████████| 271 kB 25.4 MB/s \n",
            "\u001b[?25hCollecting frozenlist>=1.1.1\n",
            "  Downloading frozenlist-1.2.0-cp37-cp37m-manylinux_2_5_x86_64.manylinux1_x86_64.manylinux_2_12_x86_64.manylinux2010_x86_64.whl (192 kB)\n",
            "\u001b[K     |████████████████████████████████| 192 kB 16.4 MB/s \n",
            "\u001b[?25hRequirement already satisfied: typing-extensions>=3.7.4 in /usr/local/lib/python3.7/dist-packages (from aiohttp->dataframe-image) (3.10.0.2)\n",
            "Collecting multidict<7.0,>=4.5\n",
            "  Downloading multidict-5.2.0-cp37-cp37m-manylinux_2_5_x86_64.manylinux1_x86_64.manylinux_2_12_x86_64.manylinux2010_x86_64.whl (160 kB)\n",
            "\u001b[K     |████████████████████████████████| 160 kB 33.4 MB/s \n",
            "\u001b[?25hCollecting aiosignal>=1.1.2\n",
            "  Downloading aiosignal-1.2.0-py3-none-any.whl (8.2 kB)\n",
            "Collecting async-timeout<5.0,>=4.0.0a3\n",
            "  Downloading async_timeout-4.0.2-py3-none-any.whl (5.8 kB)\n",
            "Collecting asynctest==0.13.0\n",
            "  Downloading asynctest-0.13.0-py3-none-any.whl (26 kB)\n",
            "Requirement already satisfied: charset-normalizer<3.0,>=2.0 in /usr/local/lib/python3.7/dist-packages (from aiohttp->dataframe-image) (2.0.8)\n",
            "Requirement already satisfied: idna>=2.0 in /usr/local/lib/python3.7/dist-packages (from yarl<2.0,>=1.0->aiohttp->dataframe-image) (2.10)\n",
            "Requirement already satisfied: webencodings in /usr/local/lib/python3.7/dist-packages (from bleach->nbconvert>=5->dataframe-image) (0.5.1)\n",
            "Requirement already satisfied: packaging in /usr/local/lib/python3.7/dist-packages (from bleach->nbconvert>=5->dataframe-image) (21.3)\n",
            "Requirement already satisfied: chardet<4,>=3.0.2 in /usr/local/lib/python3.7/dist-packages (from requests->dataframe-image) (3.0.4)\n",
            "Requirement already satisfied: urllib3!=1.25.0,!=1.25.1,<1.26,>=1.21.1 in /usr/local/lib/python3.7/dist-packages (from requests->dataframe-image) (1.24.3)\n",
            "Requirement already satisfied: certifi>=2017.4.17 in /usr/local/lib/python3.7/dist-packages (from requests->dataframe-image) (2021.10.8)\n",
            "Installing collected packages: multidict, frozenlist, yarl, asynctest, async-timeout, aiosignal, aiohttp, dataframe-image\n",
            "Successfully installed aiohttp-3.8.1 aiosignal-1.2.0 async-timeout-4.0.2 asynctest-0.13.0 dataframe-image-0.1.1 frozenlist-1.2.0 multidict-5.2.0 yarl-1.7.2\n"
          ]
        }
      ]
    },
    {
      "cell_type": "code",
      "metadata": {
        "colab": {
          "base_uri": "https://localhost:8080/"
        },
        "id": "ZQWGnWYSOclF",
        "outputId": "59f02103-ba3c-4515-ae04-0f3f65ff00af"
      },
      "source": [
        "!apt install chromium-chromedriver"
      ],
      "execution_count": 5,
      "outputs": [
        {
          "output_type": "stream",
          "name": "stdout",
          "text": [
            "Reading package lists... Done\n",
            "Building dependency tree       \n",
            "Reading state information... Done\n",
            "The following additional packages will be installed:\n",
            "  chromium-browser chromium-browser-l10n chromium-codecs-ffmpeg-extra\n",
            "Suggested packages:\n",
            "  webaccounts-chromium-extension unity-chromium-extension\n",
            "The following NEW packages will be installed:\n",
            "  chromium-browser chromium-browser-l10n chromium-chromedriver\n",
            "  chromium-codecs-ffmpeg-extra\n",
            "0 upgraded, 4 newly installed, 0 to remove and 37 not upgraded.\n",
            "Need to get 94.0 MB of archives.\n",
            "After this operation, 324 MB of additional disk space will be used.\n",
            "Get:1 http://archive.ubuntu.com/ubuntu bionic-updates/universe amd64 chromium-codecs-ffmpeg-extra amd64 95.0.4638.69-0ubuntu0.18.04.1 [1,135 kB]\n",
            "Get:2 http://archive.ubuntu.com/ubuntu bionic-updates/universe amd64 chromium-browser amd64 95.0.4638.69-0ubuntu0.18.04.1 [83.6 MB]\n",
            "Get:3 http://archive.ubuntu.com/ubuntu bionic-updates/universe amd64 chromium-browser-l10n all 95.0.4638.69-0ubuntu0.18.04.1 [4,249 kB]\n",
            "Get:4 http://archive.ubuntu.com/ubuntu bionic-updates/universe amd64 chromium-chromedriver amd64 95.0.4638.69-0ubuntu0.18.04.1 [4,986 kB]\n",
            "Fetched 94.0 MB in 7s (14.3 MB/s)\n",
            "Selecting previously unselected package chromium-codecs-ffmpeg-extra.\n",
            "(Reading database ... 155222 files and directories currently installed.)\n",
            "Preparing to unpack .../chromium-codecs-ffmpeg-extra_95.0.4638.69-0ubuntu0.18.04.1_amd64.deb ...\n",
            "Unpacking chromium-codecs-ffmpeg-extra (95.0.4638.69-0ubuntu0.18.04.1) ...\n",
            "Selecting previously unselected package chromium-browser.\n",
            "Preparing to unpack .../chromium-browser_95.0.4638.69-0ubuntu0.18.04.1_amd64.deb ...\n",
            "Unpacking chromium-browser (95.0.4638.69-0ubuntu0.18.04.1) ...\n",
            "Selecting previously unselected package chromium-browser-l10n.\n",
            "Preparing to unpack .../chromium-browser-l10n_95.0.4638.69-0ubuntu0.18.04.1_all.deb ...\n",
            "Unpacking chromium-browser-l10n (95.0.4638.69-0ubuntu0.18.04.1) ...\n",
            "Selecting previously unselected package chromium-chromedriver.\n",
            "Preparing to unpack .../chromium-chromedriver_95.0.4638.69-0ubuntu0.18.04.1_amd64.deb ...\n",
            "Unpacking chromium-chromedriver (95.0.4638.69-0ubuntu0.18.04.1) ...\n",
            "Setting up chromium-codecs-ffmpeg-extra (95.0.4638.69-0ubuntu0.18.04.1) ...\n",
            "Setting up chromium-browser (95.0.4638.69-0ubuntu0.18.04.1) ...\n",
            "update-alternatives: using /usr/bin/chromium-browser to provide /usr/bin/x-www-browser (x-www-browser) in auto mode\n",
            "update-alternatives: using /usr/bin/chromium-browser to provide /usr/bin/gnome-www-browser (gnome-www-browser) in auto mode\n",
            "Setting up chromium-chromedriver (95.0.4638.69-0ubuntu0.18.04.1) ...\n",
            "Setting up chromium-browser-l10n (95.0.4638.69-0ubuntu0.18.04.1) ...\n",
            "Processing triggers for man-db (2.8.3-2ubuntu0.1) ...\n",
            "Processing triggers for hicolor-icon-theme (0.17-2) ...\n",
            "Processing triggers for mime-support (3.60ubuntu1) ...\n",
            "Processing triggers for libc-bin (2.27-3ubuntu1.3) ...\n",
            "/sbin/ldconfig.real: /usr/local/lib/python3.7/dist-packages/ideep4py/lib/libmkldnn.so.0 is not a symbolic link\n",
            "\n"
          ]
        }
      ]
    },
    {
      "cell_type": "code",
      "metadata": {
        "colab": {
          "base_uri": "https://localhost:8080/",
          "height": 104
        },
        "id": "3YFRij8NJzao",
        "outputId": "b535d701-1829-4293-c79b-8823c9ee6580"
      },
      "source": [
        "import wandb\n",
        "from wandb.keras import WandbCallback\n",
        "\n",
        "wandb.login()"
      ],
      "execution_count": 6,
      "outputs": [
        {
          "output_type": "display_data",
          "data": {
            "application/javascript": [
              "\n",
              "        window._wandbApiKey = new Promise((resolve, reject) => {\n",
              "            function loadScript(url) {\n",
              "            return new Promise(function(resolve, reject) {\n",
              "                let newScript = document.createElement(\"script\");\n",
              "                newScript.onerror = reject;\n",
              "                newScript.onload = resolve;\n",
              "                document.body.appendChild(newScript);\n",
              "                newScript.src = url;\n",
              "            });\n",
              "            }\n",
              "            loadScript(\"https://cdn.jsdelivr.net/npm/postmate/build/postmate.min.js\").then(() => {\n",
              "            const iframe = document.createElement('iframe')\n",
              "            iframe.style.cssText = \"width:0;height:0;border:none\"\n",
              "            document.body.appendChild(iframe)\n",
              "            const handshake = new Postmate({\n",
              "                container: iframe,\n",
              "                url: 'https://wandb.ai/authorize'\n",
              "            });\n",
              "            const timeout = setTimeout(() => reject(\"Couldn't auto authenticate\"), 5000)\n",
              "            handshake.then(function(child) {\n",
              "                child.on('authorize', data => {\n",
              "                    clearTimeout(timeout)\n",
              "                    resolve(data)\n",
              "                });\n",
              "            });\n",
              "            })\n",
              "        });\n",
              "    "
            ],
            "text/plain": [
              "<IPython.core.display.Javascript object>"
            ]
          },
          "metadata": {}
        },
        {
          "output_type": "stream",
          "name": "stderr",
          "text": [
            "\u001b[34m\u001b[1mwandb\u001b[0m: You can find your API key in your browser here: https://wandb.ai/authorize\n"
          ]
        },
        {
          "name": "stdout",
          "output_type": "stream",
          "text": [
            "wandb: Paste an API key from your profile and hit enter, or press ctrl+c to quit: ··········\n"
          ]
        },
        {
          "output_type": "stream",
          "name": "stderr",
          "text": [
            "\u001b[34m\u001b[1mwandb\u001b[0m: Appending key for api.wandb.ai to your netrc file: /root/.netrc\n"
          ]
        },
        {
          "output_type": "execute_result",
          "data": {
            "text/plain": [
              "True"
            ]
          },
          "metadata": {},
          "execution_count": 6
        }
      ]
    },
    {
      "cell_type": "markdown",
      "metadata": {
        "id": "6i52OsYmPVg0"
      },
      "source": [
        "# Get and Prepare Dataset"
      ]
    },
    {
      "cell_type": "code",
      "metadata": {
        "colab": {
          "base_uri": "https://localhost:8080/"
        },
        "id": "JSiBMtzRBWj3",
        "outputId": "bc1da5d3-3c44-4fc0-a8b0-c60b9452603e"
      },
      "source": [
        "# This mounts your Google Drive to the Colab VM.\n",
        "from google.colab import drive\n",
        "drive.mount('/content/drive')"
      ],
      "execution_count": 7,
      "outputs": [
        {
          "output_type": "stream",
          "name": "stdout",
          "text": [
            "Mounted at /content/drive\n"
          ]
        }
      ]
    },
    {
      "cell_type": "code",
      "metadata": {
        "colab": {
          "base_uri": "https://localhost:8080/"
        },
        "id": "7ju2HgOXBb_j",
        "outputId": "0b58761a-9436-4a30-d4e2-d290f179e0ad"
      },
      "source": [
        "data = pd.read_csv(\"/content/drive/My Drive/Colab Notebooks/Project/Data/emotions.csv\")\n",
        "print(data.info())\n",
        "# !ls \"/content/drive/My Drive/Colab Notebooks/Project/Data\""
      ],
      "execution_count": 8,
      "outputs": [
        {
          "output_type": "stream",
          "name": "stdout",
          "text": [
            "<class 'pandas.core.frame.DataFrame'>\n",
            "RangeIndex: 2132 entries, 0 to 2131\n",
            "Columns: 2549 entries, # mean_0_a to label\n",
            "dtypes: float64(2548), object(1)\n",
            "memory usage: 41.5+ MB\n",
            "None\n"
          ]
        }
      ]
    },
    {
      "cell_type": "code",
      "metadata": {
        "colab": {
          "base_uri": "https://localhost:8080/",
          "height": 505
        },
        "id": "8kJsjCIOBlWL",
        "outputId": "1999f7de-b5f3-4e25-8576-6c2108620346"
      },
      "source": [
        "data"
      ],
      "execution_count": 10,
      "outputs": [
        {
          "output_type": "execute_result",
          "data": {
            "text/html": [
              "\n",
              "  <div id=\"df-9dc910fe-81fa-4e4b-9630-a825e1984de5\">\n",
              "    <div class=\"colab-df-container\">\n",
              "      <div>\n",
              "<style scoped>\n",
              "    .dataframe tbody tr th:only-of-type {\n",
              "        vertical-align: middle;\n",
              "    }\n",
              "\n",
              "    .dataframe tbody tr th {\n",
              "        vertical-align: top;\n",
              "    }\n",
              "\n",
              "    .dataframe thead th {\n",
              "        text-align: right;\n",
              "    }\n",
              "</style>\n",
              "<table border=\"1\" class=\"dataframe\">\n",
              "  <thead>\n",
              "    <tr style=\"text-align: right;\">\n",
              "      <th></th>\n",
              "      <th># mean_0_a</th>\n",
              "      <th>mean_1_a</th>\n",
              "      <th>mean_2_a</th>\n",
              "      <th>mean_3_a</th>\n",
              "      <th>mean_4_a</th>\n",
              "      <th>mean_d_0_a</th>\n",
              "      <th>mean_d_1_a</th>\n",
              "      <th>mean_d_2_a</th>\n",
              "      <th>mean_d_3_a</th>\n",
              "      <th>mean_d_4_a</th>\n",
              "      <th>mean_d_0_a2</th>\n",
              "      <th>mean_d_1_a2</th>\n",
              "      <th>mean_d_2_a2</th>\n",
              "      <th>mean_d_3_a2</th>\n",
              "      <th>mean_d_4_a2</th>\n",
              "      <th>mean_d_5_a</th>\n",
              "      <th>mean_d_6_a</th>\n",
              "      <th>mean_d_7_a</th>\n",
              "      <th>mean_d_8_a</th>\n",
              "      <th>mean_d_9_a</th>\n",
              "      <th>mean_d_10_a</th>\n",
              "      <th>mean_d_11_a</th>\n",
              "      <th>mean_d_12_a</th>\n",
              "      <th>mean_d_13_a</th>\n",
              "      <th>mean_d_14_a</th>\n",
              "      <th>mean_d_15_a</th>\n",
              "      <th>mean_d_16_a</th>\n",
              "      <th>mean_d_17_a</th>\n",
              "      <th>mean_d_18_a</th>\n",
              "      <th>mean_d_19_a</th>\n",
              "      <th>mean_d_20_a</th>\n",
              "      <th>mean_d_21_a</th>\n",
              "      <th>mean_d_22_a</th>\n",
              "      <th>mean_d_23_a</th>\n",
              "      <th>mean_d_24_a</th>\n",
              "      <th>mean_d_25_a</th>\n",
              "      <th>mean_d_26_a</th>\n",
              "      <th>mean_d_27_a</th>\n",
              "      <th>mean_d_28_a</th>\n",
              "      <th>mean_d_29_a</th>\n",
              "      <th>...</th>\n",
              "      <th>fft_711_b</th>\n",
              "      <th>fft_712_b</th>\n",
              "      <th>fft_713_b</th>\n",
              "      <th>fft_714_b</th>\n",
              "      <th>fft_715_b</th>\n",
              "      <th>fft_716_b</th>\n",
              "      <th>fft_717_b</th>\n",
              "      <th>fft_718_b</th>\n",
              "      <th>fft_719_b</th>\n",
              "      <th>fft_720_b</th>\n",
              "      <th>fft_721_b</th>\n",
              "      <th>fft_722_b</th>\n",
              "      <th>fft_723_b</th>\n",
              "      <th>fft_724_b</th>\n",
              "      <th>fft_725_b</th>\n",
              "      <th>fft_726_b</th>\n",
              "      <th>fft_727_b</th>\n",
              "      <th>fft_728_b</th>\n",
              "      <th>fft_729_b</th>\n",
              "      <th>fft_730_b</th>\n",
              "      <th>fft_731_b</th>\n",
              "      <th>fft_732_b</th>\n",
              "      <th>fft_733_b</th>\n",
              "      <th>fft_734_b</th>\n",
              "      <th>fft_735_b</th>\n",
              "      <th>fft_736_b</th>\n",
              "      <th>fft_737_b</th>\n",
              "      <th>fft_738_b</th>\n",
              "      <th>fft_739_b</th>\n",
              "      <th>fft_740_b</th>\n",
              "      <th>fft_741_b</th>\n",
              "      <th>fft_742_b</th>\n",
              "      <th>fft_743_b</th>\n",
              "      <th>fft_744_b</th>\n",
              "      <th>fft_745_b</th>\n",
              "      <th>fft_746_b</th>\n",
              "      <th>fft_747_b</th>\n",
              "      <th>fft_748_b</th>\n",
              "      <th>fft_749_b</th>\n",
              "      <th>label</th>\n",
              "    </tr>\n",
              "  </thead>\n",
              "  <tbody>\n",
              "    <tr>\n",
              "      <th>0</th>\n",
              "      <td>4.620</td>\n",
              "      <td>30.3</td>\n",
              "      <td>-356.0</td>\n",
              "      <td>15.60</td>\n",
              "      <td>26.3</td>\n",
              "      <td>1.070</td>\n",
              "      <td>0.411</td>\n",
              "      <td>-15.700</td>\n",
              "      <td>2.060</td>\n",
              "      <td>3.15</td>\n",
              "      <td>2.15</td>\n",
              "      <td>29.5</td>\n",
              "      <td>-353.0</td>\n",
              "      <td>14.40</td>\n",
              "      <td>21.5</td>\n",
              "      <td>5.98</td>\n",
              "      <td>30.7</td>\n",
              "      <td>-343.0</td>\n",
              "      <td>14.70</td>\n",
              "      <td>27.9</td>\n",
              "      <td>3.170</td>\n",
              "      <td>32.2</td>\n",
              "      <td>-368.0</td>\n",
              "      <td>15.90</td>\n",
              "      <td>36.4</td>\n",
              "      <td>7.08</td>\n",
              "      <td>28.8</td>\n",
              "      <td>-359.0</td>\n",
              "      <td>17.30</td>\n",
              "      <td>19.6</td>\n",
              "      <td>-3.8300</td>\n",
              "      <td>-1.230</td>\n",
              "      <td>-10.80000</td>\n",
              "      <td>-0.363</td>\n",
              "      <td>-6.41</td>\n",
              "      <td>-1.03</td>\n",
              "      <td>-2.780</td>\n",
              "      <td>14.600</td>\n",
              "      <td>-1.540</td>\n",
              "      <td>-14.900000</td>\n",
              "      <td>...</td>\n",
              "      <td>30.90</td>\n",
              "      <td>-24.4</td>\n",
              "      <td>-24.4</td>\n",
              "      <td>30.90</td>\n",
              "      <td>-442.0</td>\n",
              "      <td>388.0</td>\n",
              "      <td>-197.0</td>\n",
              "      <td>-197.0</td>\n",
              "      <td>388.0</td>\n",
              "      <td>-564.0</td>\n",
              "      <td>500.00</td>\n",
              "      <td>-245.00</td>\n",
              "      <td>-245.00</td>\n",
              "      <td>500.00</td>\n",
              "      <td>-88.8</td>\n",
              "      <td>214.0</td>\n",
              "      <td>-88.8</td>\n",
              "      <td>-88.8</td>\n",
              "      <td>214.0</td>\n",
              "      <td>-606.0</td>\n",
              "      <td>509.000</td>\n",
              "      <td>-261.0</td>\n",
              "      <td>-261.0</td>\n",
              "      <td>509.000</td>\n",
              "      <td>-399.0</td>\n",
              "      <td>374.00</td>\n",
              "      <td>-185.00</td>\n",
              "      <td>-185.00</td>\n",
              "      <td>374.00</td>\n",
              "      <td>74.3</td>\n",
              "      <td>23.50</td>\n",
              "      <td>20.300</td>\n",
              "      <td>20.300</td>\n",
              "      <td>23.50</td>\n",
              "      <td>-215.0</td>\n",
              "      <td>280.00</td>\n",
              "      <td>-162.00</td>\n",
              "      <td>-162.00</td>\n",
              "      <td>280.00</td>\n",
              "      <td>NEGATIVE</td>\n",
              "    </tr>\n",
              "    <tr>\n",
              "      <th>1</th>\n",
              "      <td>28.800</td>\n",
              "      <td>33.1</td>\n",
              "      <td>32.0</td>\n",
              "      <td>25.80</td>\n",
              "      <td>22.8</td>\n",
              "      <td>6.550</td>\n",
              "      <td>1.680</td>\n",
              "      <td>2.880</td>\n",
              "      <td>3.830</td>\n",
              "      <td>-4.82</td>\n",
              "      <td>25.60</td>\n",
              "      <td>32.8</td>\n",
              "      <td>29.6</td>\n",
              "      <td>21.50</td>\n",
              "      <td>17.4</td>\n",
              "      <td>25.50</td>\n",
              "      <td>31.7</td>\n",
              "      <td>31.5</td>\n",
              "      <td>26.20</td>\n",
              "      <td>32.9</td>\n",
              "      <td>31.800</td>\n",
              "      <td>33.1</td>\n",
              "      <td>33.2</td>\n",
              "      <td>28.50</td>\n",
              "      <td>26.8</td>\n",
              "      <td>32.40</td>\n",
              "      <td>34.7</td>\n",
              "      <td>33.8</td>\n",
              "      <td>27.00</td>\n",
              "      <td>14.2</td>\n",
              "      <td>0.0342</td>\n",
              "      <td>1.100</td>\n",
              "      <td>-1.87000</td>\n",
              "      <td>-4.690</td>\n",
              "      <td>-15.40</td>\n",
              "      <td>-6.22</td>\n",
              "      <td>-0.328</td>\n",
              "      <td>-3.530</td>\n",
              "      <td>-6.980</td>\n",
              "      <td>-9.370000</td>\n",
              "      <td>...</td>\n",
              "      <td>-5.99</td>\n",
              "      <td>-19.1</td>\n",
              "      <td>-19.1</td>\n",
              "      <td>-5.99</td>\n",
              "      <td>163.0</td>\n",
              "      <td>-11.0</td>\n",
              "      <td>-10.7</td>\n",
              "      <td>-10.7</td>\n",
              "      <td>-11.0</td>\n",
              "      <td>117.0</td>\n",
              "      <td>-3.93</td>\n",
              "      <td>17.90</td>\n",
              "      <td>17.90</td>\n",
              "      <td>-3.93</td>\n",
              "      <td>112.0</td>\n",
              "      <td>-13.9</td>\n",
              "      <td>25.5</td>\n",
              "      <td>25.5</td>\n",
              "      <td>-13.9</td>\n",
              "      <td>225.0</td>\n",
              "      <td>-0.968</td>\n",
              "      <td>-27.7</td>\n",
              "      <td>-27.7</td>\n",
              "      <td>-0.968</td>\n",
              "      <td>97.4</td>\n",
              "      <td>-19.00</td>\n",
              "      <td>40.70</td>\n",
              "      <td>40.70</td>\n",
              "      <td>-19.00</td>\n",
              "      <td>130.0</td>\n",
              "      <td>-23.30</td>\n",
              "      <td>-21.800</td>\n",
              "      <td>-21.800</td>\n",
              "      <td>-23.30</td>\n",
              "      <td>182.0</td>\n",
              "      <td>2.57</td>\n",
              "      <td>-31.60</td>\n",
              "      <td>-31.60</td>\n",
              "      <td>2.57</td>\n",
              "      <td>NEUTRAL</td>\n",
              "    </tr>\n",
              "    <tr>\n",
              "      <th>2</th>\n",
              "      <td>8.900</td>\n",
              "      <td>29.4</td>\n",
              "      <td>-416.0</td>\n",
              "      <td>16.70</td>\n",
              "      <td>23.7</td>\n",
              "      <td>79.900</td>\n",
              "      <td>3.360</td>\n",
              "      <td>90.200</td>\n",
              "      <td>89.900</td>\n",
              "      <td>2.03</td>\n",
              "      <td>7.75</td>\n",
              "      <td>30.1</td>\n",
              "      <td>-441.0</td>\n",
              "      <td>9.89</td>\n",
              "      <td>25.3</td>\n",
              "      <td>-68.90</td>\n",
              "      <td>25.3</td>\n",
              "      <td>-481.0</td>\n",
              "      <td>-65.40</td>\n",
              "      <td>20.0</td>\n",
              "      <td>79.800</td>\n",
              "      <td>31.0</td>\n",
              "      <td>-408.0</td>\n",
              "      <td>91.90</td>\n",
              "      <td>29.5</td>\n",
              "      <td>18.80</td>\n",
              "      <td>31.1</td>\n",
              "      <td>-335.0</td>\n",
              "      <td>32.20</td>\n",
              "      <td>19.9</td>\n",
              "      <td>76.6000</td>\n",
              "      <td>4.850</td>\n",
              "      <td>39.90000</td>\n",
              "      <td>75.300</td>\n",
              "      <td>5.27</td>\n",
              "      <td>-72.00</td>\n",
              "      <td>-0.843</td>\n",
              "      <td>-33.000</td>\n",
              "      <td>-82.000</td>\n",
              "      <td>-4.200000</td>\n",
              "      <td>...</td>\n",
              "      <td>585.00</td>\n",
              "      <td>-285.0</td>\n",
              "      <td>-285.0</td>\n",
              "      <td>585.00</td>\n",
              "      <td>-94.3</td>\n",
              "      <td>183.0</td>\n",
              "      <td>-110.0</td>\n",
              "      <td>-110.0</td>\n",
              "      <td>183.0</td>\n",
              "      <td>-133.0</td>\n",
              "      <td>200.00</td>\n",
              "      <td>-72.00</td>\n",
              "      <td>-72.00</td>\n",
              "      <td>200.00</td>\n",
              "      <td>-356.0</td>\n",
              "      <td>295.0</td>\n",
              "      <td>-158.0</td>\n",
              "      <td>-158.0</td>\n",
              "      <td>295.0</td>\n",
              "      <td>-251.0</td>\n",
              "      <td>255.000</td>\n",
              "      <td>-95.7</td>\n",
              "      <td>-95.7</td>\n",
              "      <td>255.000</td>\n",
              "      <td>-177.0</td>\n",
              "      <td>159.00</td>\n",
              "      <td>-48.80</td>\n",
              "      <td>-48.80</td>\n",
              "      <td>159.00</td>\n",
              "      <td>-534.0</td>\n",
              "      <td>462.00</td>\n",
              "      <td>-233.000</td>\n",
              "      <td>-233.000</td>\n",
              "      <td>462.00</td>\n",
              "      <td>-267.0</td>\n",
              "      <td>281.00</td>\n",
              "      <td>-148.00</td>\n",
              "      <td>-148.00</td>\n",
              "      <td>281.00</td>\n",
              "      <td>POSITIVE</td>\n",
              "    </tr>\n",
              "    <tr>\n",
              "      <th>3</th>\n",
              "      <td>14.900</td>\n",
              "      <td>31.6</td>\n",
              "      <td>-143.0</td>\n",
              "      <td>19.80</td>\n",
              "      <td>24.3</td>\n",
              "      <td>-0.584</td>\n",
              "      <td>-0.284</td>\n",
              "      <td>8.820</td>\n",
              "      <td>2.300</td>\n",
              "      <td>-1.97</td>\n",
              "      <td>17.30</td>\n",
              "      <td>32.0</td>\n",
              "      <td>-148.0</td>\n",
              "      <td>20.40</td>\n",
              "      <td>22.8</td>\n",
              "      <td>13.20</td>\n",
              "      <td>31.5</td>\n",
              "      <td>-147.0</td>\n",
              "      <td>16.90</td>\n",
              "      <td>27.7</td>\n",
              "      <td>15.700</td>\n",
              "      <td>30.7</td>\n",
              "      <td>-142.0</td>\n",
              "      <td>20.70</td>\n",
              "      <td>22.8</td>\n",
              "      <td>13.60</td>\n",
              "      <td>32.2</td>\n",
              "      <td>-135.0</td>\n",
              "      <td>21.20</td>\n",
              "      <td>23.8</td>\n",
              "      <td>4.1500</td>\n",
              "      <td>0.556</td>\n",
              "      <td>-0.35400</td>\n",
              "      <td>3.460</td>\n",
              "      <td>-4.96</td>\n",
              "      <td>1.63</td>\n",
              "      <td>1.330</td>\n",
              "      <td>-5.830</td>\n",
              "      <td>-0.298</td>\n",
              "      <td>0.000777</td>\n",
              "      <td>...</td>\n",
              "      <td>249.00</td>\n",
              "      <td>-146.0</td>\n",
              "      <td>-146.0</td>\n",
              "      <td>249.00</td>\n",
              "      <td>359.0</td>\n",
              "      <td>-146.0</td>\n",
              "      <td>13.7</td>\n",
              "      <td>13.7</td>\n",
              "      <td>-146.0</td>\n",
              "      <td>119.0</td>\n",
              "      <td>-7.64</td>\n",
              "      <td>-7.17</td>\n",
              "      <td>-7.17</td>\n",
              "      <td>-7.64</td>\n",
              "      <td>-296.0</td>\n",
              "      <td>316.0</td>\n",
              "      <td>-218.0</td>\n",
              "      <td>-218.0</td>\n",
              "      <td>316.0</td>\n",
              "      <td>322.0</td>\n",
              "      <td>-113.000</td>\n",
              "      <td>38.4</td>\n",
              "      <td>38.4</td>\n",
              "      <td>-113.000</td>\n",
              "      <td>245.0</td>\n",
              "      <td>-61.90</td>\n",
              "      <td>-5.08</td>\n",
              "      <td>-5.08</td>\n",
              "      <td>-61.90</td>\n",
              "      <td>-183.0</td>\n",
              "      <td>299.00</td>\n",
              "      <td>-243.000</td>\n",
              "      <td>-243.000</td>\n",
              "      <td>299.00</td>\n",
              "      <td>132.0</td>\n",
              "      <td>-12.40</td>\n",
              "      <td>9.53</td>\n",
              "      <td>9.53</td>\n",
              "      <td>-12.40</td>\n",
              "      <td>POSITIVE</td>\n",
              "    </tr>\n",
              "    <tr>\n",
              "      <th>4</th>\n",
              "      <td>28.300</td>\n",
              "      <td>31.3</td>\n",
              "      <td>45.2</td>\n",
              "      <td>27.30</td>\n",
              "      <td>24.5</td>\n",
              "      <td>34.800</td>\n",
              "      <td>-5.790</td>\n",
              "      <td>3.060</td>\n",
              "      <td>41.400</td>\n",
              "      <td>5.52</td>\n",
              "      <td>26.10</td>\n",
              "      <td>34.3</td>\n",
              "      <td>43.7</td>\n",
              "      <td>23.70</td>\n",
              "      <td>20.6</td>\n",
              "      <td>-3.87</td>\n",
              "      <td>34.1</td>\n",
              "      <td>43.7</td>\n",
              "      <td>-10.00</td>\n",
              "      <td>22.9</td>\n",
              "      <td>59.400</td>\n",
              "      <td>26.7</td>\n",
              "      <td>60.3</td>\n",
              "      <td>64.70</td>\n",
              "      <td>26.9</td>\n",
              "      <td>32.30</td>\n",
              "      <td>30.1</td>\n",
              "      <td>33.6</td>\n",
              "      <td>31.60</td>\n",
              "      <td>27.7</td>\n",
              "      <td>30.0000</td>\n",
              "      <td>0.276</td>\n",
              "      <td>-0.00677</td>\n",
              "      <td>33.700</td>\n",
              "      <td>-2.36</td>\n",
              "      <td>-33.30</td>\n",
              "      <td>7.640</td>\n",
              "      <td>-16.600</td>\n",
              "      <td>-41.100</td>\n",
              "      <td>-6.290000</td>\n",
              "      <td>...</td>\n",
              "      <td>18.30</td>\n",
              "      <td>-11.9</td>\n",
              "      <td>-11.9</td>\n",
              "      <td>18.30</td>\n",
              "      <td>159.0</td>\n",
              "      <td>-18.2</td>\n",
              "      <td>-25.6</td>\n",
              "      <td>-25.6</td>\n",
              "      <td>-18.2</td>\n",
              "      <td>194.0</td>\n",
              "      <td>32.70</td>\n",
              "      <td>-54.50</td>\n",
              "      <td>-54.50</td>\n",
              "      <td>32.70</td>\n",
              "      <td>154.0</td>\n",
              "      <td>26.4</td>\n",
              "      <td>-56.4</td>\n",
              "      <td>-56.4</td>\n",
              "      <td>26.4</td>\n",
              "      <td>252.0</td>\n",
              "      <td>9.940</td>\n",
              "      <td>-37.4</td>\n",
              "      <td>-37.4</td>\n",
              "      <td>9.940</td>\n",
              "      <td>172.0</td>\n",
              "      <td>15.90</td>\n",
              "      <td>-7.25</td>\n",
              "      <td>-7.25</td>\n",
              "      <td>15.90</td>\n",
              "      <td>114.0</td>\n",
              "      <td>12.00</td>\n",
              "      <td>38.100</td>\n",
              "      <td>38.100</td>\n",
              "      <td>12.00</td>\n",
              "      <td>119.0</td>\n",
              "      <td>-17.60</td>\n",
              "      <td>23.90</td>\n",
              "      <td>23.90</td>\n",
              "      <td>-17.60</td>\n",
              "      <td>NEUTRAL</td>\n",
              "    </tr>\n",
              "    <tr>\n",
              "      <th>...</th>\n",
              "      <td>...</td>\n",
              "      <td>...</td>\n",
              "      <td>...</td>\n",
              "      <td>...</td>\n",
              "      <td>...</td>\n",
              "      <td>...</td>\n",
              "      <td>...</td>\n",
              "      <td>...</td>\n",
              "      <td>...</td>\n",
              "      <td>...</td>\n",
              "      <td>...</td>\n",
              "      <td>...</td>\n",
              "      <td>...</td>\n",
              "      <td>...</td>\n",
              "      <td>...</td>\n",
              "      <td>...</td>\n",
              "      <td>...</td>\n",
              "      <td>...</td>\n",
              "      <td>...</td>\n",
              "      <td>...</td>\n",
              "      <td>...</td>\n",
              "      <td>...</td>\n",
              "      <td>...</td>\n",
              "      <td>...</td>\n",
              "      <td>...</td>\n",
              "      <td>...</td>\n",
              "      <td>...</td>\n",
              "      <td>...</td>\n",
              "      <td>...</td>\n",
              "      <td>...</td>\n",
              "      <td>...</td>\n",
              "      <td>...</td>\n",
              "      <td>...</td>\n",
              "      <td>...</td>\n",
              "      <td>...</td>\n",
              "      <td>...</td>\n",
              "      <td>...</td>\n",
              "      <td>...</td>\n",
              "      <td>...</td>\n",
              "      <td>...</td>\n",
              "      <td>...</td>\n",
              "      <td>...</td>\n",
              "      <td>...</td>\n",
              "      <td>...</td>\n",
              "      <td>...</td>\n",
              "      <td>...</td>\n",
              "      <td>...</td>\n",
              "      <td>...</td>\n",
              "      <td>...</td>\n",
              "      <td>...</td>\n",
              "      <td>...</td>\n",
              "      <td>...</td>\n",
              "      <td>...</td>\n",
              "      <td>...</td>\n",
              "      <td>...</td>\n",
              "      <td>...</td>\n",
              "      <td>...</td>\n",
              "      <td>...</td>\n",
              "      <td>...</td>\n",
              "      <td>...</td>\n",
              "      <td>...</td>\n",
              "      <td>...</td>\n",
              "      <td>...</td>\n",
              "      <td>...</td>\n",
              "      <td>...</td>\n",
              "      <td>...</td>\n",
              "      <td>...</td>\n",
              "      <td>...</td>\n",
              "      <td>...</td>\n",
              "      <td>...</td>\n",
              "      <td>...</td>\n",
              "      <td>...</td>\n",
              "      <td>...</td>\n",
              "      <td>...</td>\n",
              "      <td>...</td>\n",
              "      <td>...</td>\n",
              "      <td>...</td>\n",
              "      <td>...</td>\n",
              "      <td>...</td>\n",
              "      <td>...</td>\n",
              "      <td>...</td>\n",
              "    </tr>\n",
              "    <tr>\n",
              "      <th>2127</th>\n",
              "      <td>32.400</td>\n",
              "      <td>32.2</td>\n",
              "      <td>32.2</td>\n",
              "      <td>30.80</td>\n",
              "      <td>23.4</td>\n",
              "      <td>1.640</td>\n",
              "      <td>-2.030</td>\n",
              "      <td>0.647</td>\n",
              "      <td>-0.121</td>\n",
              "      <td>-1.10</td>\n",
              "      <td>33.30</td>\n",
              "      <td>33.4</td>\n",
              "      <td>31.0</td>\n",
              "      <td>32.30</td>\n",
              "      <td>18.6</td>\n",
              "      <td>30.00</td>\n",
              "      <td>33.0</td>\n",
              "      <td>32.6</td>\n",
              "      <td>29.50</td>\n",
              "      <td>29.1</td>\n",
              "      <td>32.000</td>\n",
              "      <td>29.9</td>\n",
              "      <td>32.6</td>\n",
              "      <td>28.50</td>\n",
              "      <td>24.9</td>\n",
              "      <td>34.50</td>\n",
              "      <td>32.4</td>\n",
              "      <td>32.4</td>\n",
              "      <td>33.00</td>\n",
              "      <td>20.8</td>\n",
              "      <td>3.3500</td>\n",
              "      <td>0.461</td>\n",
              "      <td>-1.61000</td>\n",
              "      <td>2.880</td>\n",
              "      <td>-10.60</td>\n",
              "      <td>1.31</td>\n",
              "      <td>3.490</td>\n",
              "      <td>-1.540</td>\n",
              "      <td>3.860</td>\n",
              "      <td>-6.350000</td>\n",
              "      <td>...</td>\n",
              "      <td>-42.90</td>\n",
              "      <td>84.1</td>\n",
              "      <td>84.1</td>\n",
              "      <td>-42.90</td>\n",
              "      <td>168.0</td>\n",
              "      <td>-19.6</td>\n",
              "      <td>24.5</td>\n",
              "      <td>24.5</td>\n",
              "      <td>-19.6</td>\n",
              "      <td>176.0</td>\n",
              "      <td>-5.42</td>\n",
              "      <td>-10.50</td>\n",
              "      <td>-10.50</td>\n",
              "      <td>-5.42</td>\n",
              "      <td>131.0</td>\n",
              "      <td>-21.2</td>\n",
              "      <td>30.0</td>\n",
              "      <td>30.0</td>\n",
              "      <td>-21.2</td>\n",
              "      <td>260.0</td>\n",
              "      <td>-0.263</td>\n",
              "      <td>-37.2</td>\n",
              "      <td>-37.2</td>\n",
              "      <td>-0.263</td>\n",
              "      <td>194.0</td>\n",
              "      <td>-3.74</td>\n",
              "      <td>-18.40</td>\n",
              "      <td>-18.40</td>\n",
              "      <td>-3.74</td>\n",
              "      <td>155.0</td>\n",
              "      <td>-21.70</td>\n",
              "      <td>0.218</td>\n",
              "      <td>0.218</td>\n",
              "      <td>-21.70</td>\n",
              "      <td>95.2</td>\n",
              "      <td>-19.90</td>\n",
              "      <td>47.20</td>\n",
              "      <td>47.20</td>\n",
              "      <td>-19.90</td>\n",
              "      <td>NEUTRAL</td>\n",
              "    </tr>\n",
              "    <tr>\n",
              "      <th>2128</th>\n",
              "      <td>16.300</td>\n",
              "      <td>31.3</td>\n",
              "      <td>-284.0</td>\n",
              "      <td>14.30</td>\n",
              "      <td>23.9</td>\n",
              "      <td>4.200</td>\n",
              "      <td>1.090</td>\n",
              "      <td>4.460</td>\n",
              "      <td>4.720</td>\n",
              "      <td>6.63</td>\n",
              "      <td>-39.40</td>\n",
              "      <td>32.5</td>\n",
              "      <td>-287.0</td>\n",
              "      <td>-42.10</td>\n",
              "      <td>19.2</td>\n",
              "      <td>66.40</td>\n",
              "      <td>29.0</td>\n",
              "      <td>-286.0</td>\n",
              "      <td>64.50</td>\n",
              "      <td>22.0</td>\n",
              "      <td>19.400</td>\n",
              "      <td>31.1</td>\n",
              "      <td>-280.0</td>\n",
              "      <td>16.40</td>\n",
              "      <td>27.8</td>\n",
              "      <td>17.50</td>\n",
              "      <td>32.5</td>\n",
              "      <td>-284.0</td>\n",
              "      <td>16.80</td>\n",
              "      <td>26.6</td>\n",
              "      <td>-106.0000</td>\n",
              "      <td>3.410</td>\n",
              "      <td>-1.35000</td>\n",
              "      <td>-107.000</td>\n",
              "      <td>-2.80</td>\n",
              "      <td>-58.80</td>\n",
              "      <td>1.340</td>\n",
              "      <td>-6.770</td>\n",
              "      <td>-58.500</td>\n",
              "      <td>-8.630000</td>\n",
              "      <td>...</td>\n",
              "      <td>393.00</td>\n",
              "      <td>-187.0</td>\n",
              "      <td>-187.0</td>\n",
              "      <td>393.00</td>\n",
              "      <td>-407.0</td>\n",
              "      <td>364.0</td>\n",
              "      <td>-130.0</td>\n",
              "      <td>-130.0</td>\n",
              "      <td>364.0</td>\n",
              "      <td>-48.7</td>\n",
              "      <td>150.00</td>\n",
              "      <td>-72.90</td>\n",
              "      <td>-72.90</td>\n",
              "      <td>150.00</td>\n",
              "      <td>-303.0</td>\n",
              "      <td>307.0</td>\n",
              "      <td>-211.0</td>\n",
              "      <td>-211.0</td>\n",
              "      <td>307.0</td>\n",
              "      <td>-50.5</td>\n",
              "      <td>118.000</td>\n",
              "      <td>-57.1</td>\n",
              "      <td>-57.1</td>\n",
              "      <td>118.000</td>\n",
              "      <td>-152.0</td>\n",
              "      <td>199.00</td>\n",
              "      <td>-93.00</td>\n",
              "      <td>-93.00</td>\n",
              "      <td>199.00</td>\n",
              "      <td>-661.0</td>\n",
              "      <td>594.00</td>\n",
              "      <td>-324.000</td>\n",
              "      <td>-324.000</td>\n",
              "      <td>594.00</td>\n",
              "      <td>-35.5</td>\n",
              "      <td>142.00</td>\n",
              "      <td>-59.80</td>\n",
              "      <td>-59.80</td>\n",
              "      <td>142.00</td>\n",
              "      <td>POSITIVE</td>\n",
              "    </tr>\n",
              "    <tr>\n",
              "      <th>2129</th>\n",
              "      <td>-0.547</td>\n",
              "      <td>28.3</td>\n",
              "      <td>-259.0</td>\n",
              "      <td>15.80</td>\n",
              "      <td>26.7</td>\n",
              "      <td>9.080</td>\n",
              "      <td>6.900</td>\n",
              "      <td>12.700</td>\n",
              "      <td>2.030</td>\n",
              "      <td>4.64</td>\n",
              "      <td>-1.26</td>\n",
              "      <td>27.2</td>\n",
              "      <td>-254.0</td>\n",
              "      <td>12.50</td>\n",
              "      <td>23.1</td>\n",
              "      <td>-8.82</td>\n",
              "      <td>22.4</td>\n",
              "      <td>-275.0</td>\n",
              "      <td>17.10</td>\n",
              "      <td>25.6</td>\n",
              "      <td>0.367</td>\n",
              "      <td>30.4</td>\n",
              "      <td>-254.0</td>\n",
              "      <td>14.30</td>\n",
              "      <td>30.9</td>\n",
              "      <td>7.53</td>\n",
              "      <td>32.9</td>\n",
              "      <td>-250.0</td>\n",
              "      <td>19.30</td>\n",
              "      <td>27.2</td>\n",
              "      <td>7.5500</td>\n",
              "      <td>4.810</td>\n",
              "      <td>21.00000</td>\n",
              "      <td>-4.550</td>\n",
              "      <td>-2.55</td>\n",
              "      <td>-1.63</td>\n",
              "      <td>-3.200</td>\n",
              "      <td>-0.193</td>\n",
              "      <td>-1.830</td>\n",
              "      <td>-7.770000</td>\n",
              "      <td>...</td>\n",
              "      <td>214.00</td>\n",
              "      <td>-151.0</td>\n",
              "      <td>-151.0</td>\n",
              "      <td>214.00</td>\n",
              "      <td>297.0</td>\n",
              "      <td>-152.0</td>\n",
              "      <td>82.4</td>\n",
              "      <td>82.4</td>\n",
              "      <td>-152.0</td>\n",
              "      <td>-252.0</td>\n",
              "      <td>305.00</td>\n",
              "      <td>-230.00</td>\n",
              "      <td>-230.00</td>\n",
              "      <td>305.00</td>\n",
              "      <td>-70.8</td>\n",
              "      <td>227.0</td>\n",
              "      <td>-146.0</td>\n",
              "      <td>-146.0</td>\n",
              "      <td>227.0</td>\n",
              "      <td>173.0</td>\n",
              "      <td>9.790</td>\n",
              "      <td>13.1</td>\n",
              "      <td>13.1</td>\n",
              "      <td>9.790</td>\n",
              "      <td>-441.0</td>\n",
              "      <td>385.00</td>\n",
              "      <td>-214.00</td>\n",
              "      <td>-214.00</td>\n",
              "      <td>385.00</td>\n",
              "      <td>-232.0</td>\n",
              "      <td>370.00</td>\n",
              "      <td>-160.000</td>\n",
              "      <td>-160.000</td>\n",
              "      <td>370.00</td>\n",
              "      <td>408.0</td>\n",
              "      <td>-169.00</td>\n",
              "      <td>-10.50</td>\n",
              "      <td>-10.50</td>\n",
              "      <td>-169.00</td>\n",
              "      <td>NEGATIVE</td>\n",
              "    </tr>\n",
              "    <tr>\n",
              "      <th>2130</th>\n",
              "      <td>16.800</td>\n",
              "      <td>19.9</td>\n",
              "      <td>-288.0</td>\n",
              "      <td>8.34</td>\n",
              "      <td>26.0</td>\n",
              "      <td>2.460</td>\n",
              "      <td>1.580</td>\n",
              "      <td>-16.000</td>\n",
              "      <td>1.690</td>\n",
              "      <td>4.74</td>\n",
              "      <td>20.90</td>\n",
              "      <td>21.1</td>\n",
              "      <td>-285.0</td>\n",
              "      <td>11.00</td>\n",
              "      <td>18.8</td>\n",
              "      <td>10.50</td>\n",
              "      <td>17.2</td>\n",
              "      <td>-275.0</td>\n",
              "      <td>4.09</td>\n",
              "      <td>28.4</td>\n",
              "      <td>19.500</td>\n",
              "      <td>22.4</td>\n",
              "      <td>-293.0</td>\n",
              "      <td>8.53</td>\n",
              "      <td>23.3</td>\n",
              "      <td>16.60</td>\n",
              "      <td>19.1</td>\n",
              "      <td>-298.0</td>\n",
              "      <td>9.83</td>\n",
              "      <td>33.4</td>\n",
              "      <td>10.4000</td>\n",
              "      <td>3.870</td>\n",
              "      <td>-9.96000</td>\n",
              "      <td>6.910</td>\n",
              "      <td>-9.69</td>\n",
              "      <td>1.33</td>\n",
              "      <td>-1.310</td>\n",
              "      <td>8.470</td>\n",
              "      <td>2.470</td>\n",
              "      <td>-4.490000</td>\n",
              "      <td>...</td>\n",
              "      <td>98.30</td>\n",
              "      <td>-35.4</td>\n",
              "      <td>-35.4</td>\n",
              "      <td>98.30</td>\n",
              "      <td>-670.0</td>\n",
              "      <td>641.0</td>\n",
              "      <td>-312.0</td>\n",
              "      <td>-312.0</td>\n",
              "      <td>641.0</td>\n",
              "      <td>219.0</td>\n",
              "      <td>-1.40</td>\n",
              "      <td>22.60</td>\n",
              "      <td>22.60</td>\n",
              "      <td>-1.40</td>\n",
              "      <td>-121.0</td>\n",
              "      <td>164.0</td>\n",
              "      <td>-34.4</td>\n",
              "      <td>-34.4</td>\n",
              "      <td>164.0</td>\n",
              "      <td>-722.0</td>\n",
              "      <td>587.000</td>\n",
              "      <td>-218.0</td>\n",
              "      <td>-218.0</td>\n",
              "      <td>587.000</td>\n",
              "      <td>151.0</td>\n",
              "      <td>-7.48</td>\n",
              "      <td>34.20</td>\n",
              "      <td>34.20</td>\n",
              "      <td>-7.48</td>\n",
              "      <td>-99.7</td>\n",
              "      <td>124.00</td>\n",
              "      <td>-27.600</td>\n",
              "      <td>-27.600</td>\n",
              "      <td>124.00</td>\n",
              "      <td>-656.0</td>\n",
              "      <td>552.00</td>\n",
              "      <td>-271.00</td>\n",
              "      <td>-271.00</td>\n",
              "      <td>552.00</td>\n",
              "      <td>NEGATIVE</td>\n",
              "    </tr>\n",
              "    <tr>\n",
              "      <th>2131</th>\n",
              "      <td>27.000</td>\n",
              "      <td>32.0</td>\n",
              "      <td>31.8</td>\n",
              "      <td>25.00</td>\n",
              "      <td>28.9</td>\n",
              "      <td>4.990</td>\n",
              "      <td>1.950</td>\n",
              "      <td>6.210</td>\n",
              "      <td>3.490</td>\n",
              "      <td>-3.51</td>\n",
              "      <td>27.50</td>\n",
              "      <td>32.1</td>\n",
              "      <td>29.8</td>\n",
              "      <td>24.80</td>\n",
              "      <td>31.3</td>\n",
              "      <td>21.60</td>\n",
              "      <td>30.0</td>\n",
              "      <td>27.7</td>\n",
              "      <td>21.80</td>\n",
              "      <td>30.0</td>\n",
              "      <td>30.000</td>\n",
              "      <td>35.3</td>\n",
              "      <td>31.7</td>\n",
              "      <td>24.20</td>\n",
              "      <td>25.2</td>\n",
              "      <td>29.00</td>\n",
              "      <td>30.8</td>\n",
              "      <td>38.0</td>\n",
              "      <td>29.30</td>\n",
              "      <td>29.1</td>\n",
              "      <td>5.9700</td>\n",
              "      <td>2.130</td>\n",
              "      <td>2.08000</td>\n",
              "      <td>2.960</td>\n",
              "      <td>1.35</td>\n",
              "      <td>-2.45</td>\n",
              "      <td>-3.170</td>\n",
              "      <td>-1.940</td>\n",
              "      <td>0.579</td>\n",
              "      <td>6.180000</td>\n",
              "      <td>...</td>\n",
              "      <td>1.11</td>\n",
              "      <td>17.6</td>\n",
              "      <td>17.6</td>\n",
              "      <td>1.11</td>\n",
              "      <td>96.4</td>\n",
              "      <td>10.7</td>\n",
              "      <td>28.7</td>\n",
              "      <td>28.7</td>\n",
              "      <td>10.7</td>\n",
              "      <td>126.0</td>\n",
              "      <td>-10.90</td>\n",
              "      <td>21.60</td>\n",
              "      <td>21.60</td>\n",
              "      <td>-10.90</td>\n",
              "      <td>155.0</td>\n",
              "      <td>-16.9</td>\n",
              "      <td>13.5</td>\n",
              "      <td>13.5</td>\n",
              "      <td>-16.9</td>\n",
              "      <td>169.0</td>\n",
              "      <td>9.520</td>\n",
              "      <td>-19.7</td>\n",
              "      <td>-19.7</td>\n",
              "      <td>9.520</td>\n",
              "      <td>178.0</td>\n",
              "      <td>-26.40</td>\n",
              "      <td>-2.82</td>\n",
              "      <td>-2.82</td>\n",
              "      <td>-26.40</td>\n",
              "      <td>181.0</td>\n",
              "      <td>1.95</td>\n",
              "      <td>1.810</td>\n",
              "      <td>1.810</td>\n",
              "      <td>1.95</td>\n",
              "      <td>110.0</td>\n",
              "      <td>-6.71</td>\n",
              "      <td>22.80</td>\n",
              "      <td>22.80</td>\n",
              "      <td>-6.71</td>\n",
              "      <td>NEUTRAL</td>\n",
              "    </tr>\n",
              "  </tbody>\n",
              "</table>\n",
              "<p>2132 rows × 2549 columns</p>\n",
              "</div>\n",
              "      <button class=\"colab-df-convert\" onclick=\"convertToInteractive('df-9dc910fe-81fa-4e4b-9630-a825e1984de5')\"\n",
              "              title=\"Convert this dataframe to an interactive table.\"\n",
              "              style=\"display:none;\">\n",
              "        \n",
              "  <svg xmlns=\"http://www.w3.org/2000/svg\" height=\"24px\"viewBox=\"0 0 24 24\"\n",
              "       width=\"24px\">\n",
              "    <path d=\"M0 0h24v24H0V0z\" fill=\"none\"/>\n",
              "    <path d=\"M18.56 5.44l.94 2.06.94-2.06 2.06-.94-2.06-.94-.94-2.06-.94 2.06-2.06.94zm-11 1L8.5 8.5l.94-2.06 2.06-.94-2.06-.94L8.5 2.5l-.94 2.06-2.06.94zm10 10l.94 2.06.94-2.06 2.06-.94-2.06-.94-.94-2.06-.94 2.06-2.06.94z\"/><path d=\"M17.41 7.96l-1.37-1.37c-.4-.4-.92-.59-1.43-.59-.52 0-1.04.2-1.43.59L10.3 9.45l-7.72 7.72c-.78.78-.78 2.05 0 2.83L4 21.41c.39.39.9.59 1.41.59.51 0 1.02-.2 1.41-.59l7.78-7.78 2.81-2.81c.8-.78.8-2.07 0-2.86zM5.41 20L4 18.59l7.72-7.72 1.47 1.35L5.41 20z\"/>\n",
              "  </svg>\n",
              "      </button>\n",
              "      \n",
              "  <style>\n",
              "    .colab-df-container {\n",
              "      display:flex;\n",
              "      flex-wrap:wrap;\n",
              "      gap: 12px;\n",
              "    }\n",
              "\n",
              "    .colab-df-convert {\n",
              "      background-color: #E8F0FE;\n",
              "      border: none;\n",
              "      border-radius: 50%;\n",
              "      cursor: pointer;\n",
              "      display: none;\n",
              "      fill: #1967D2;\n",
              "      height: 32px;\n",
              "      padding: 0 0 0 0;\n",
              "      width: 32px;\n",
              "    }\n",
              "\n",
              "    .colab-df-convert:hover {\n",
              "      background-color: #E2EBFA;\n",
              "      box-shadow: 0px 1px 2px rgba(60, 64, 67, 0.3), 0px 1px 3px 1px rgba(60, 64, 67, 0.15);\n",
              "      fill: #174EA6;\n",
              "    }\n",
              "\n",
              "    [theme=dark] .colab-df-convert {\n",
              "      background-color: #3B4455;\n",
              "      fill: #D2E3FC;\n",
              "    }\n",
              "\n",
              "    [theme=dark] .colab-df-convert:hover {\n",
              "      background-color: #434B5C;\n",
              "      box-shadow: 0px 1px 3px 1px rgba(0, 0, 0, 0.15);\n",
              "      filter: drop-shadow(0px 1px 2px rgba(0, 0, 0, 0.3));\n",
              "      fill: #FFFFFF;\n",
              "    }\n",
              "  </style>\n",
              "\n",
              "      <script>\n",
              "        const buttonEl =\n",
              "          document.querySelector('#df-9dc910fe-81fa-4e4b-9630-a825e1984de5 button.colab-df-convert');\n",
              "        buttonEl.style.display =\n",
              "          google.colab.kernel.accessAllowed ? 'block' : 'none';\n",
              "\n",
              "        async function convertToInteractive(key) {\n",
              "          const element = document.querySelector('#df-9dc910fe-81fa-4e4b-9630-a825e1984de5');\n",
              "          const dataTable =\n",
              "            await google.colab.kernel.invokeFunction('convertToInteractive',\n",
              "                                                     [key], {});\n",
              "          if (!dataTable) return;\n",
              "\n",
              "          const docLinkHtml = 'Like what you see? Visit the ' +\n",
              "            '<a target=\"_blank\" href=https://colab.research.google.com/notebooks/data_table.ipynb>data table notebook</a>'\n",
              "            + ' to learn more about interactive tables.';\n",
              "          element.innerHTML = '';\n",
              "          dataTable['output_type'] = 'display_data';\n",
              "          await google.colab.output.renderOutput(dataTable, element);\n",
              "          const docLink = document.createElement('div');\n",
              "          docLink.innerHTML = docLinkHtml;\n",
              "          element.appendChild(docLink);\n",
              "        }\n",
              "      </script>\n",
              "    </div>\n",
              "  </div>\n",
              "  "
            ],
            "text/plain": [
              "      # mean_0_a  mean_1_a  mean_2_a  ...  fft_748_b  fft_749_b     label\n",
              "0          4.620      30.3    -356.0  ...    -162.00     280.00  NEGATIVE\n",
              "1         28.800      33.1      32.0  ...     -31.60       2.57   NEUTRAL\n",
              "2          8.900      29.4    -416.0  ...    -148.00     281.00  POSITIVE\n",
              "3         14.900      31.6    -143.0  ...       9.53     -12.40  POSITIVE\n",
              "4         28.300      31.3      45.2  ...      23.90     -17.60   NEUTRAL\n",
              "...          ...       ...       ...  ...        ...        ...       ...\n",
              "2127      32.400      32.2      32.2  ...      47.20     -19.90   NEUTRAL\n",
              "2128      16.300      31.3    -284.0  ...     -59.80     142.00  POSITIVE\n",
              "2129      -0.547      28.3    -259.0  ...     -10.50    -169.00  NEGATIVE\n",
              "2130      16.800      19.9    -288.0  ...    -271.00     552.00  NEGATIVE\n",
              "2131      27.000      32.0      31.8  ...      22.80      -6.71   NEUTRAL\n",
              "\n",
              "[2132 rows x 2549 columns]"
            ]
          },
          "metadata": {},
          "execution_count": 10
        }
      ]
    },
    {
      "cell_type": "code",
      "metadata": {
        "colab": {
          "base_uri": "https://localhost:8080/"
        },
        "id": "ofmd4pVrBn8J",
        "outputId": "4b71eda3-435e-4c55-cab6-b28e51c7a6f4"
      },
      "source": [
        "data.isnull().sum().sum()"
      ],
      "execution_count": 11,
      "outputs": [
        {
          "output_type": "execute_result",
          "data": {
            "text/plain": [
              "0"
            ]
          },
          "metadata": {},
          "execution_count": 11
        }
      ]
    },
    {
      "cell_type": "code",
      "metadata": {
        "colab": {
          "base_uri": "https://localhost:8080/"
        },
        "id": "NXK_dCgnBqkT",
        "outputId": "b3201b77-8a12-43fa-b6f5-27c984ecde14"
      },
      "source": [
        "# View a sample of time series data\n",
        "sample = data.loc[5, 'fft_0_a':'fft_479_a']\n",
        "sample"
      ],
      "execution_count": 12,
      "outputs": [
        {
          "output_type": "execute_result",
          "data": {
            "text/plain": [
              "fft_0_a       203\n",
              "fft_1_a        -1\n",
              "fft_2_a     -7.16\n",
              "fft_3_a     -7.16\n",
              "fft_4_a        -1\n",
              "             ... \n",
              "fft_475_a     131\n",
              "fft_476_a    4.73\n",
              "fft_477_a   -15.5\n",
              "fft_478_a   -15.5\n",
              "fft_479_a    4.73\n",
              "Name: 5, Length: 480, dtype: object"
            ]
          },
          "metadata": {},
          "execution_count": 12
        }
      ]
    },
    {
      "cell_type": "code",
      "metadata": {
        "colab": {
          "base_uri": "https://localhost:8080/",
          "height": 356
        },
        "id": "Z3boDeqNBs-d",
        "outputId": "b31f3709-a96d-4714-91ba-f3b594f812e8"
      },
      "source": [
        "# from google.colab import files\n",
        "\n",
        "plt.figure(figsize=(20,7))\n",
        "plt.plot(range(len(sample)), sample)\n",
        "plt.title('Features range fft_0_a - fft_479_a for one data point')\n",
        "# plt.savefig('sample_data.png')\n",
        "# files.download('sample_data.png')\n",
        "plt.show()"
      ],
      "execution_count": 13,
      "outputs": [
        {
          "output_type": "display_data",
          "data": {
            "image/png": "[encoded data removed]",
            "text/plain": [
              "<Figure size 1440x504 with 1 Axes>"
            ]
          },
          "metadata": {
            "needs_background": "light"
          }
        }
      ]
    },
    {
      "cell_type": "code",
      "metadata": {
        "colab": {
          "base_uri": "https://localhost:8080/"
        },
        "id": "oqNU61AtBwyJ",
        "outputId": "45c47199-3653-4fc5-fe7f-d35948d3a840"
      },
      "source": [
        "data['label'].value_counts()"
      ],
      "execution_count": 14,
      "outputs": [
        {
          "output_type": "execute_result",
          "data": {
            "text/plain": [
              "NEUTRAL     716\n",
              "NEGATIVE    708\n",
              "POSITIVE    708\n",
              "Name: label, dtype: int64"
            ]
          },
          "metadata": {},
          "execution_count": 14
        }
      ]
    },
    {
      "cell_type": "markdown",
      "metadata": {
        "id": "kfO4okWAPcdQ"
      },
      "source": [
        "# Data Preprocessing"
      ]
    },
    {
      "cell_type": "code",
      "metadata": {
        "id": "BzN5npNMB0OA"
      },
      "source": [
        "## Data Preprocessing\n",
        "label_mapping = {'Negative':0, 'NEUTRAL':1, 'POSITIVE':2}"
      ],
      "execution_count": 15,
      "outputs": []
    },
    {
      "cell_type": "code",
      "metadata": {
        "id": "B8_k3smRCCuc"
      },
      "source": [
        "# Scaling the dataset\n",
        "y = data.pop('label').astype('category').cat.codes\n",
        "X = data                                              # do not change original dataset"
      ],
      "execution_count": 16,
      "outputs": []
    },
    {
      "cell_type": "code",
      "metadata": {
        "id": "n6_YdEZIb-DX"
      },
      "source": [
        "# Identifying the top features related to our dataset\n",
        "mi_score = MIC(X, y)  # mutual_info_classif helps us for defining the % of dependence between features and target variables."
      ],
      "execution_count": 17,
      "outputs": []
    },
    {
      "cell_type": "code",
      "metadata": {
        "colab": {
          "base_uri": "https://localhost:8080/"
        },
        "id": "qbCXSVjjlNh2",
        "outputId": "8dd24d1d-45ce-438f-a007-f232b933ed03"
      },
      "source": [
        "mi_score"
      ],
      "execution_count": 18,
      "outputs": [
        {
          "output_type": "execute_result",
          "data": {
            "text/plain": [
              "array([0.52560259, 0.25252577, 0.72839325, ..., 0.20789903, 0.20847314,\n",
              "       0.40378969])"
            ]
          },
          "metadata": {},
          "execution_count": 18
        }
      ]
    },
    {
      "cell_type": "code",
      "metadata": {
        "id": "AdNBgmgGcW8F"
      },
      "source": [
        "mi_score = pd.Series(mi_score, index=X.columns)\n",
        "mi_score = (mi_score*100).sort_values(ascending=False)"
      ],
      "execution_count": 19,
      "outputs": []
    },
    {
      "cell_type": "code",
      "metadata": {
        "id": "1IG55qj4ptOH"
      },
      "source": [
        "# mi_score_index = np.where(mi_score>40)[0]\n",
        "# mi_score_index"
      ],
      "execution_count": 20,
      "outputs": []
    },
    {
      "cell_type": "code",
      "metadata": {
        "id": "4pyUnG1qclIH"
      },
      "source": [
        "# Select features with more than 10% MI-score\n",
        "top_features1 = mi_score[:-364].index # 2184. 10% MI-score\n",
        "top_features2 = mi_score[:-552].index # 1996. 20% MI-score\n",
        "top_features3 = mi_score[:-1095].index # 1453. 30% MI-score\n",
        "top_features4 = mi_score[:-1960].index # 588. 40% MI-score"
      ],
      "execution_count": 21,
      "outputs": []
    },
    {
      "cell_type": "code",
      "metadata": {
        "colab": {
          "base_uri": "https://localhost:8080/"
        },
        "id": "Xg2j1yLBdcSQ",
        "outputId": "7b04afbc-5fb3-4f2a-9294-a10f3813a57b"
      },
      "source": [
        "top_features1"
      ],
      "execution_count": 23,
      "outputs": [
        {
          "output_type": "execute_result",
          "data": {
            "text/plain": [
              "Index(['covmat_0_a', 'covmat_0_b', 'mean_2_b', 'mean_2_a', 'mean_d_12_a',\n",
              "       'mean_d_2_b2', 'covmat_4_a', 'covmat_4_b', 'mean_d_2_a2', 'covmat_48_b',\n",
              "       ...\n",
              "       'covmat_42_a', 'covmat_46_a', 'logm_54_b', 'logm_50_b', 'logm_60_a',\n",
              "       'covmat_42_b', 'logm_60_b', 'covmat_83_a', 'covmat_138_a',\n",
              "       'covmat_135_b'],\n",
              "      dtype='object', length=2184)"
            ]
          },
          "metadata": {},
          "execution_count": 23
        }
      ]
    },
    {
      "cell_type": "code",
      "metadata": {
        "id": "q0HwDgiPb63w"
      },
      "source": [
        "# scaled_data = StandardScaler().fit_transform(X) # not applied feature selection\n",
        "scaled_data = StandardScaler().fit_transform(X[top_features1]) # applied feature selection"
      ],
      "execution_count": 25,
      "outputs": []
    },
    {
      "cell_type": "code",
      "metadata": {
        "id": "krj655rPB8kH"
      },
      "source": [
        "# Split dataset into training set and test set (80:20)\n",
        "\n",
        "X_train, X_test, y_train, y_test = train_test_split(scaled_data, y, random_state=42, test_size=0.2, stratify=y)  # random_state: make sure to have same result"
      ],
      "execution_count": 26,
      "outputs": []
    },
    {
      "cell_type": "code",
      "metadata": {
        "colab": {
          "base_uri": "https://localhost:8080/"
        },
        "id": "Tpa1vVzUCHzb",
        "outputId": "0afaaae7-cdf7-4f6a-e713-1aaff87d8e66"
      },
      "source": [
        "print(\"Training set:\",len(X_train), \"Test set:\", len(X_test))"
      ],
      "execution_count": 27,
      "outputs": [
        {
          "output_type": "stream",
          "name": "stdout",
          "text": [
            "Training set: 1705 Test set: 427\n"
          ]
        }
      ]
    },
    {
      "cell_type": "code",
      "metadata": {
        "colab": {
          "base_uri": "https://localhost:8080/"
        },
        "id": "2RyN6ivZCMy6",
        "outputId": "b43e4cf7-cc0d-4b04-d682-1bfb3c368801"
      },
      "source": [
        "y_train.value_counts()"
      ],
      "execution_count": 28,
      "outputs": [
        {
          "output_type": "execute_result",
          "data": {
            "text/plain": [
              "1    573\n",
              "2    566\n",
              "0    566\n",
              "dtype: int64"
            ]
          },
          "metadata": {},
          "execution_count": 28
        }
      ]
    },
    {
      "cell_type": "code",
      "metadata": {
        "colab": {
          "base_uri": "https://localhost:8080/"
        },
        "id": "ci3wURapCO4m",
        "outputId": "45c86b0c-aa5d-4795-a5fa-e8fd6eb8c57b"
      },
      "source": [
        "y_test.value_counts()"
      ],
      "execution_count": 29,
      "outputs": [
        {
          "output_type": "execute_result",
          "data": {
            "text/plain": [
              "1    143\n",
              "2    142\n",
              "0    142\n",
              "dtype: int64"
            ]
          },
          "metadata": {},
          "execution_count": 29
        }
      ]
    },
    {
      "cell_type": "markdown",
      "metadata": {
        "id": "-QrRdzuxOQxg"
      },
      "source": [
        "# Define the Model"
      ]
    },
    {
      "cell_type": "markdown",
      "metadata": {
        "id": "vfGdPd1LOXJU"
      },
      "source": [
        "Here, we define CNN (with convolution, batch normalization, max-pooling and dropout) in Keras."
      ]
    },
    {
      "cell_type": "code",
      "metadata": {
        "id": "3oLSUU4rCQ9h"
      },
      "source": [
        "# model = models.Sequential()\n",
        "# model.add(layers.Conv1D(64,10, input_shape=(X_train.shape[1],1)))\n",
        "# model.add(layers.BatchNormalization())\n",
        "# model.add(layers.ReLU())\n",
        "# model.add(layers.MaxPool1D(2))\n",
        "# model.add(layers.Dropout(0.25))\n",
        "\n",
        "# model.add(layers.Conv1D(64,5))\n",
        "# model.add(layers.BatchNormalization())\n",
        "# model.add(layers.ReLU())\n",
        "# model.add(layers.MaxPool1D(2))\n",
        "# model.add(layers.Dropout(0.25))\n",
        "\n",
        "# model.add(layers.Flatten())\n",
        "# model.add(layers.Dense(3, activation='softmax'))\n",
        "\n",
        "# model.summary()\n",
        "\n",
        "def Model(filters1, filters2, kernel_size1, kernel_size2, dropout1, dropout2):\n",
        "\n",
        "  # inputs = keras.layers.Input(shape=(X_train.shape[1],1))\n",
        "\n",
        "  # x = keras.layers.Conv1D(filters=filters1, kernel_size=kernel_size1)(inputs)\n",
        "  # x = keras.layers.BatchNormalization(x)\n",
        "  # x = keras.layers.ReLU(x)\n",
        "  # x = keras.layers.MaxPooling1D(pool_size=2)(x)\n",
        "  # x = keras.layers.Dropout(dropout1)(x)\n",
        "\n",
        "  # x = keras.layers.Conv1D(filters=filters2, kernel_size=kernel_size2)(x)\n",
        "  # x = keras.layers.BatchNormalization(x)\n",
        "  # x = keras.layers.ReLU(x)\n",
        "  # x = keras.layers.MaxPooling1D(pool_size=2)(x)\n",
        "  # x = keras.layers.Dropout(dropout2)(x)\n",
        "\n",
        "  # x = keras.layers.Flatten(x)\n",
        "  # outputs = keras.layers.Dense(3, activation='softmax')(x)\n",
        "\n",
        "  model = models.Sequential()\n",
        "  model.add(layers.Conv1D(filters1, kernel_size1, input_shape=(X_train.shape[1], 1)))\n",
        "  model.add(layers.BatchNormalization())\n",
        "  model.add(layers.ReLU())\n",
        "  model.add(layers.MaxPool1D(2))\n",
        "  model.add(layers.Dropout(dropout1))\n",
        "\n",
        "  model.add(layers.Conv1D(filters2, kernel_size2))\n",
        "  model.add(layers.BatchNormalization())\n",
        "  model.add(layers.ReLU())\n",
        "  model.add(layers.MaxPool1D(2))\n",
        "  model.add(layers.Dropout(dropout2))\n",
        "\n",
        "  model.add(layers.Flatten())\n",
        "  model.add(layers.Dense(3, activation='softmax'))\n",
        "\n",
        "  return model"
      ],
      "execution_count": 38,
      "outputs": []
    },
    {
      "cell_type": "markdown",
      "metadata": {
        "id": "TmEBJbRXOyWE"
      },
      "source": [
        "# Train the Model"
      ]
    },
    {
      "cell_type": "markdown",
      "metadata": {
        "id": "aI2sq-bPO6Vk"
      },
      "source": [
        "Train the model with Wandb"
      ]
    },
    {
      "cell_type": "code",
      "metadata": {
        "colab": {
          "base_uri": "https://localhost:8080/",
          "height": 677
        },
        "id": "Wyhe3uFJCndP",
        "outputId": "d6e6d2cd-765d-46d9-fae6-718affcd5601"
      },
      "source": [
        "# adam = keras.optimizers.Adam(learning_rate=0.001)\n",
        "# model.compile(optimizer=adam, loss='sparse_categorical_crossentropy', metrics=['accuracy'])   # As Ys(labels) are integers, we use sparse categorical crossentropy.\n",
        "#                                                                                               # Whereas we use categorical crossentropy when Ys are one-hot encoded.\n",
        "# # call = callbacks.EarlyStopping(patience=10, min_delta=0.0001, restore_best_weights=True)\n",
        "# history=model.fit(X_train, y_train, validation_split=0.25, batch_size=28, epochs=10, shuffle=True)\n",
        "\n",
        "# Initialize wandb with your project name\n",
        "run = wandb.init(project='eeg-emotional-classification',\n",
        "                 config={  # and include hyperparameters and metadata\n",
        "                     \"learning_rate\": 0.001,\n",
        "                     \"epochs\": 30,\n",
        "                     \"batch_size\": 28,\n",
        "                     \"loss_function\": \"sparse_categorical_crossentropy\",\n",
        "                     \"filters1\": 64,\n",
        "                     \"filters2\": 64,\n",
        "                     \"kernel_size1\": 5,\n",
        "                     \"kernel_size2\" : 5,\n",
        "                     \"dropout1\": 0.5,\n",
        "                     \"dropout2\": 0.5\n",
        "                 })\n",
        "config = wandb.config  # We'll use this to configure our experiment\n",
        "\n",
        "# Initialize model like you usually do.\n",
        "tf.keras.backend.clear_session()\n",
        "model = Model(config.filters1, config.filters2, config.kernel_size1, config.kernel_size2, config.dropout1, config.dropout2)\n",
        "model.summary()\n",
        "\n",
        "# Compile model like you usually do.\n",
        "# Notice that we use config, so our metadata matches what gets executed\n",
        "optimizer = tf.keras.optimizers.Adam(config.learning_rate) \n",
        "model.compile(optimizer, config.loss_function, metrics=['accuracy'])"
      ],
      "execution_count": 39,
      "outputs": [
        {
          "output_type": "display_data",
          "data": {
            "text/html": [
              "\n",
              "                    Syncing run <strong><a href=\"https://wandb.ai/sryu/eeg-emotional-classification/runs/ryxqgz3e\" target=\"_blank\">honest-darkness-75</a></strong> to <a href=\"https://wandb.ai/sryu/eeg-emotional-classification\" target=\"_blank\">Weights & Biases</a> (<a href=\"https://docs.wandb.com/integrations/jupyter.html\" target=\"_blank\">docs</a>).<br/>\n",
              "\n",
              "                "
            ],
            "text/plain": [
              "<IPython.core.display.HTML object>"
            ]
          },
          "metadata": {}
        },
        {
          "output_type": "stream",
          "name": "stdout",
          "text": [
            "Model: \"sequential\"\n",
            "_________________________________________________________________\n",
            " Layer (type)                Output Shape              Param #   \n",
            "=================================================================\n",
            " conv1d (Conv1D)             (None, 2180, 64)          384       \n",
            "                                                                 \n",
            " batch_normalization (BatchN  (None, 2180, 64)         256       \n",
            " ormalization)                                                   \n",
            "                                                                 \n",
            " re_lu (ReLU)                (None, 2180, 64)          0         \n",
            "                                                                 \n",
            " max_pooling1d (MaxPooling1D  (None, 1090, 64)         0         \n",
            " )                                                               \n",
            "                                                                 \n",
            " dropout (Dropout)           (None, 1090, 64)          0         \n",
            "                                                                 \n",
            " conv1d_1 (Conv1D)           (None, 1086, 64)          20544     \n",
            "                                                                 \n",
            " batch_normalization_1 (Batc  (None, 1086, 64)         256       \n",
            " hNormalization)                                                 \n",
            "                                                                 \n",
            " re_lu_1 (ReLU)              (None, 1086, 64)          0         \n",
            "                                                                 \n",
            " max_pooling1d_1 (MaxPooling  (None, 543, 64)          0         \n",
            " 1D)                                                             \n",
            "                                                                 \n",
            " dropout_1 (Dropout)         (None, 543, 64)           0         \n",
            "                                                                 \n",
            " flatten (Flatten)           (None, 34752)             0         \n",
            "                                                                 \n",
            " dense (Dense)               (None, 3)                 104259    \n",
            "                                                                 \n",
            "=================================================================\n",
            "Total params: 125,699\n",
            "Trainable params: 125,443\n",
            "Non-trainable params: 256\n",
            "_________________________________________________________________\n"
          ]
        }
      ]
    },
    {
      "cell_type": "code",
      "metadata": {
        "colab": {
          "base_uri": "https://localhost:8080/",
          "height": 17
        },
        "id": "yKWGQNMFTsSr",
        "outputId": "997ae41b-3508-4b9c-ce30-59a817e7aee7"
      },
      "source": [
        "keras.utils.plot_model(model, to_file='model.png', show_shapes=True, show_layer_names=True)\n",
        "files.download('model.png')\n",
        "# import visualkeras\n",
        "# visualkeras.layered_view(model)"
      ],
      "execution_count": 32,
      "outputs": [
        {
          "output_type": "display_data",
          "data": {
            "application/javascript": [
              "\n",
              "    async function download(id, filename, size) {\n",
              "      if (!google.colab.kernel.accessAllowed) {\n",
              "        return;\n",
              "      }\n",
              "      const div = document.createElement('div');\n",
              "      const label = document.createElement('label');\n",
              "      label.textContent = `Downloading \"${filename}\": `;\n",
              "      div.appendChild(label);\n",
              "      const progress = document.createElement('progress');\n",
              "      progress.max = size;\n",
              "      div.appendChild(progress);\n",
              "      document.body.appendChild(div);\n",
              "\n",
              "      const buffers = [];\n",
              "      let downloaded = 0;\n",
              "\n",
              "      const channel = await google.colab.kernel.comms.open(id);\n",
              "      // Send a message to notify the kernel that we're ready.\n",
              "      channel.send({})\n",
              "\n",
              "      for await (const message of channel.messages) {\n",
              "        // Send a message to notify the kernel that we're ready.\n",
              "        channel.send({})\n",
              "        if (message.buffers) {\n",
              "          for (const buffer of message.buffers) {\n",
              "            buffers.push(buffer);\n",
              "            downloaded += buffer.byteLength;\n",
              "            progress.value = downloaded;\n",
              "          }\n",
              "        }\n",
              "      }\n",
              "      const blob = new Blob(buffers, {type: 'application/binary'});\n",
              "      const a = document.createElement('a');\n",
              "      a.href = window.URL.createObjectURL(blob);\n",
              "      a.download = filename;\n",
              "      div.appendChild(a);\n",
              "      a.click();\n",
              "      div.remove();\n",
              "    }\n",
              "  "
            ],
            "text/plain": [
              "<IPython.core.display.Javascript object>"
            ]
          },
          "metadata": {}
        },
        {
          "output_type": "display_data",
          "data": {
            "application/javascript": [
              "download(\"download_fe75f690-f1f5-4aee-b254-b73e1c48f500\", \"model.png\", 100789)"
            ],
            "text/plain": [
              "<IPython.core.display.Javascript object>"
            ]
          },
          "metadata": {}
        }
      ]
    },
    {
      "cell_type": "code",
      "metadata": {
        "colab": {
          "base_uri": "https://localhost:8080/"
        },
        "id": "kjEZQikSRLik",
        "outputId": "ab1e23fd-2087-40a5-baa4-e64b1196060a"
      },
      "source": [
        "# We train with our beloved model.fit\n",
        "# Notice WandbCallback is used as a regular callback\n",
        "# We again use config\n",
        "history = model.fit(X_train, y_train,\n",
        "          epochs=config.epochs, \n",
        "          batch_size=config.batch_size,\n",
        "          validation_split=0.25,\n",
        "          shuffle=True,\n",
        "          callbacks=[WandbCallback()])"
      ],
      "execution_count": 40,
      "outputs": [
        {
          "output_type": "stream",
          "name": "stdout",
          "text": [
            "Epoch 1/30\n",
            " 5/46 [==>...........................] - ETA: 1s - loss: 2.2212 - accuracy: 0.5143WARNING:tensorflow:Callback method `on_train_batch_end` is slow compared to the batch time (batch time: 0.0138s vs `on_train_batch_end` time: 0.0162s). Check your callbacks.\n",
            "46/46 [==============================] - 3s 35ms/step - loss: 0.9710 - accuracy: 0.8052 - val_loss: 0.5698 - val_accuracy: 0.8548\n",
            "Epoch 2/30\n",
            "46/46 [==============================] - 1s 28ms/step - loss: 0.8108 - accuracy: 0.8670 - val_loss: 2.1331 - val_accuracy: 0.3958\n",
            "Epoch 3/30\n",
            "46/46 [==============================] - 1s 27ms/step - loss: 0.4280 - accuracy: 0.9092 - val_loss: 0.6159 - val_accuracy: 0.7799\n",
            "Epoch 4/30\n",
            "46/46 [==============================] - 1s 26ms/step - loss: 0.3866 - accuracy: 0.9108 - val_loss: 2.0095 - val_accuracy: 0.4871\n",
            "Epoch 5/30\n",
            "46/46 [==============================] - 1s 27ms/step - loss: 0.5302 - accuracy: 0.9139 - val_loss: 0.5771 - val_accuracy: 0.9251\n",
            "Epoch 6/30\n",
            "46/46 [==============================] - 1s 27ms/step - loss: 0.1839 - accuracy: 0.9554 - val_loss: 0.2957 - val_accuracy: 0.9344\n",
            "Epoch 7/30\n",
            "46/46 [==============================] - 1s 26ms/step - loss: 0.3079 - accuracy: 0.9429 - val_loss: 0.4526 - val_accuracy: 0.9415\n",
            "Epoch 8/30\n",
            "46/46 [==============================] - 1s 27ms/step - loss: 0.1173 - accuracy: 0.9664 - val_loss: 0.3684 - val_accuracy: 0.9532\n",
            "Epoch 9/30\n",
            "46/46 [==============================] - 1s 26ms/step - loss: 0.1104 - accuracy: 0.9656 - val_loss: 0.3031 - val_accuracy: 0.9672\n",
            "Epoch 10/30\n",
            "46/46 [==============================] - 1s 28ms/step - loss: 0.1443 - accuracy: 0.9695 - val_loss: 0.2423 - val_accuracy: 0.9625\n",
            "Epoch 11/30\n",
            "46/46 [==============================] - 1s 27ms/step - loss: 0.1521 - accuracy: 0.9577 - val_loss: 0.5279 - val_accuracy: 0.9578\n",
            "Epoch 12/30\n",
            "46/46 [==============================] - 1s 27ms/step - loss: 0.1411 - accuracy: 0.9656 - val_loss: 0.0733 - val_accuracy: 0.9813\n",
            "Epoch 13/30\n",
            "46/46 [==============================] - 1s 25ms/step - loss: 0.1911 - accuracy: 0.9546 - val_loss: 0.2439 - val_accuracy: 0.9719\n",
            "Epoch 14/30\n",
            "46/46 [==============================] - 1s 27ms/step - loss: 0.0834 - accuracy: 0.9781 - val_loss: 0.1745 - val_accuracy: 0.9883\n",
            "Epoch 15/30\n",
            "46/46 [==============================] - 1s 27ms/step - loss: 0.0750 - accuracy: 0.9820 - val_loss: 0.0400 - val_accuracy: 0.9813\n",
            "Epoch 16/30\n",
            "46/46 [==============================] - 1s 27ms/step - loss: 0.1931 - accuracy: 0.9648 - val_loss: 0.2178 - val_accuracy: 0.9391\n",
            "Epoch 17/30\n",
            "46/46 [==============================] - 1s 27ms/step - loss: 0.0819 - accuracy: 0.9773 - val_loss: 0.0681 - val_accuracy: 0.9766\n",
            "Epoch 18/30\n",
            "46/46 [==============================] - 1s 25ms/step - loss: 0.0199 - accuracy: 0.9922 - val_loss: 0.0997 - val_accuracy: 0.9859\n",
            "Epoch 19/30\n",
            "46/46 [==============================] - 1s 27ms/step - loss: 0.0194 - accuracy: 0.9953 - val_loss: 0.0431 - val_accuracy: 0.9859\n",
            "Epoch 20/30\n",
            "46/46 [==============================] - 1s 26ms/step - loss: 0.0327 - accuracy: 0.9922 - val_loss: 0.0855 - val_accuracy: 0.9766\n",
            "Epoch 21/30\n",
            "46/46 [==============================] - 1s 27ms/step - loss: 0.0928 - accuracy: 0.9789 - val_loss: 0.1827 - val_accuracy: 0.9578\n",
            "Epoch 22/30\n",
            "46/46 [==============================] - 1s 25ms/step - loss: 0.0847 - accuracy: 0.9742 - val_loss: 0.1616 - val_accuracy: 0.9672\n",
            "Epoch 23/30\n",
            "46/46 [==============================] - 1s 25ms/step - loss: 0.0418 - accuracy: 0.9930 - val_loss: 0.1919 - val_accuracy: 0.9859\n",
            "Epoch 24/30\n",
            "46/46 [==============================] - 1s 26ms/step - loss: 0.0524 - accuracy: 0.9898 - val_loss: 0.1265 - val_accuracy: 0.9696\n",
            "Epoch 25/30\n",
            "46/46 [==============================] - 1s 26ms/step - loss: 0.0572 - accuracy: 0.9844 - val_loss: 0.1374 - val_accuracy: 0.9696\n",
            "Epoch 26/30\n",
            "46/46 [==============================] - 1s 25ms/step - loss: 0.0159 - accuracy: 0.9961 - val_loss: 0.0760 - val_accuracy: 0.9859\n",
            "Epoch 27/30\n",
            "46/46 [==============================] - 1s 26ms/step - loss: 0.0097 - accuracy: 0.9969 - val_loss: 0.1065 - val_accuracy: 0.9813\n",
            "Epoch 28/30\n",
            "46/46 [==============================] - 1s 26ms/step - loss: 0.0191 - accuracy: 0.9906 - val_loss: 0.1530 - val_accuracy: 0.9766\n",
            "Epoch 29/30\n",
            "46/46 [==============================] - 1s 26ms/step - loss: 0.0226 - accuracy: 0.9937 - val_loss: 0.0542 - val_accuracy: 0.9813\n",
            "Epoch 30/30\n",
            "46/46 [==============================] - 1s 26ms/step - loss: 0.0123 - accuracy: 0.9953 - val_loss: 0.2421 - val_accuracy: 0.9906\n"
          ]
        }
      ]
    },
    {
      "cell_type": "code",
      "metadata": {
        "colab": {
          "base_uri": "https://localhost:8080/",
          "height": 295
        },
        "id": "iTDBoMdhC164",
        "outputId": "432ec71b-fadb-400c-d76c-e3feaeeca816"
      },
      "source": [
        "# summarize history for accuracy\n",
        "from google.colab import files\n",
        "\n",
        "plt.plot(history.history['accuracy'])\n",
        "plt.plot(history.history['val_accuracy'])\n",
        "plt.title('model accuracy')\n",
        "plt.ylabel('accuracy')\n",
        "plt.xlabel('epoch')\n",
        "plt.legend(['train', 'val'], loc='upper left')\n",
        "plt.savefig('model.png')\n",
        "# files.download('model.png')\n",
        "plt.show()"
      ],
      "execution_count": 41,
      "outputs": [
        {
          "output_type": "display_data",
          "data": {
            "image/png": "[encoded data removed]",
            "text/plain": [
              "<Figure size 432x288 with 1 Axes>"
            ]
          },
          "metadata": {
            "needs_background": "light"
          }
        }
      ]
    },
    {
      "cell_type": "code",
      "metadata": {
        "colab": {
          "base_uri": "https://localhost:8080/",
          "height": 295
        },
        "id": "kFBgSedEC5XG",
        "outputId": "4b150a85-c661-4ba6-d3f1-e33655f842de"
      },
      "source": [
        "# summarize history for loss\n",
        "plt.plot(history.history['loss'])\n",
        "plt.plot(history.history['val_loss'])\n",
        "plt.title('model loss')\n",
        "plt.ylabel('loss')\n",
        "plt.xlabel('epoch')\n",
        "plt.legend(['train', 'val'], loc='upper left')\n",
        "plt.show()"
      ],
      "execution_count": 42,
      "outputs": [
        {
          "output_type": "display_data",
          "data": {
            "image/png": "[encoded data removed]",
            "text/plain": [
              "<Figure size 432x288 with 1 Axes>"
            ]
          },
          "metadata": {
            "needs_background": "light"
          }
        }
      ]
    },
    {
      "cell_type": "markdown",
      "metadata": {
        "id": "ayKi-aR6DehE"
      },
      "source": [
        "Time to evaluate the model with test set!\n",
        "\n",
        "Here, we log the test accuracy."
      ]
    },
    {
      "cell_type": "code",
      "metadata": {
        "colab": {
          "base_uri": "https://localhost:8080/",
          "height": 372,
          "referenced_widgets": [
            "9c8c86eb2495419eb71f568cee39641b",
            "78318fb3fd90466da377bd6e9091e515",
            "a6d3c6d1e9c84d5a8872f0c49c37769b",
            "7eb4022efec942268787a34c4221078e",
            "0b2a22914ef94398a9605691b543dde1",
            "966a9210356a44d2bf84984edb58b616",
            "6d17ef60c77d47a78f2633bdeaad46cf",
            "78f8b443e3de4c4987be0cfda7feae28"
          ]
        },
        "id": "_KGiqjeRDdGf",
        "outputId": "29fdbfc9-2c01-452b-d053-17d38058e106"
      },
      "source": [
        "loss, accuracy = model.evaluate(X_test, y_test)\n",
        "\n",
        "# With wandb.log, we can easily pass in metrics as key-value pairs.\n",
        "wandb.log({'Test Accuracy': accuracy})\n",
        "\n",
        "run.finish()"
      ],
      "execution_count": 43,
      "outputs": [
        {
          "output_type": "stream",
          "name": "stdout",
          "text": [
            "14/14 [==============================] - 0s 11ms/step - loss: 0.1479 - accuracy: 0.9813\n"
          ]
        },
        {
          "output_type": "display_data",
          "data": {
            "text/html": [
              "<br/>Waiting for W&B process to finish, PID 974... <strong style=\"color:green\">(success).</strong>"
            ],
            "text/plain": [
              "<IPython.core.display.HTML object>"
            ]
          },
          "metadata": {}
        },
        {
          "output_type": "display_data",
          "data": {
            "application/vnd.jupyter.widget-view+json": {
              "model_id": "9c8c86eb2495419eb71f568cee39641b",
              "version_minor": 0,
              "version_major": 2
            },
            "text/plain": [
              "VBox(children=(Label(value=' 1.50MB of 1.50MB uploaded (0.00MB deduped)\\r'), FloatProgress(value=1.0, max=1.0)…"
            ]
          },
          "metadata": {}
        },
        {
          "output_type": "display_data",
          "data": {
            "text/html": [
              "<style>\n",
              "    table.wandb td:nth-child(1) { padding: 0 10px; text-align: right }\n",
              "    .wandb-row { display: flex; flex-direction: row; flex-wrap: wrap; width: 100% }\n",
              "    .wandb-col { display: flex; flex-direction: column; flex-basis: 100%; flex: 1; padding: 10px; }\n",
              "    </style>\n",
              "<div class=\"wandb-row\"><div class=\"wandb-col\">\n",
              "<h3>Run history:</h3><br/><table class=\"wandb\"><tr><td>Test Accuracy</td><td>▁</td></tr><tr><td>accuracy</td><td>▁▃▅▅▅▆▆▇▇▇▇▇▆▇▇▇▇███▇▇████████</td></tr><tr><td>epoch</td><td>▁▁▁▂▂▂▂▃▃▃▃▄▄▄▄▅▅▅▅▆▆▆▆▇▇▇▇███</td></tr><tr><td>loss</td><td>█▇▄▄▅▂▃▂▂▂▂▂▂▂▁▂▂▁▁▁▂▂▁▁▁▁▁▁▁▁</td></tr><tr><td>val_accuracy</td><td>▆▁▆▂▇▇▇████████▇██████████████</td></tr><tr><td>val_loss</td><td>▃█▃█▃▂▂▂▂▂▃▁▂▁▁▂▁▁▁▁▁▁▂▁▁▁▁▁▁▂</td></tr></table><br/></div><div class=\"wandb-col\">\n",
              "<h3>Run summary:</h3><br/><table class=\"wandb\"><tr><td>Test Accuracy</td><td>0.98126</td></tr><tr><td>accuracy</td><td>0.99531</td></tr><tr><td>best_epoch</td><td>14</td></tr><tr><td>best_val_loss</td><td>0.04004</td></tr><tr><td>epoch</td><td>29</td></tr><tr><td>loss</td><td>0.01232</td></tr><tr><td>val_accuracy</td><td>0.99063</td></tr><tr><td>val_loss</td><td>0.24206</td></tr></table>\n",
              "</div></div>\n",
              "Synced 5 W&B file(s), 1 media file(s), 0 artifact file(s) and 1 other file(s)\n",
              "<br/>Synced <strong style=\"color:#cdcd00\">honest-darkness-75</strong>: <a href=\"https://wandb.ai/sryu/eeg-emotional-classification/runs/ryxqgz3e\" target=\"_blank\">https://wandb.ai/sryu/eeg-emotional-classification/runs/ryxqgz3e</a><br/>\n",
              "Find logs at: <code>./wandb/run-20211220_192230-ryxqgz3e/logs</code><br/>\n"
            ],
            "text/plain": [
              "<IPython.core.display.HTML object>"
            ]
          },
          "metadata": {}
        }
      ]
    },
    {
      "cell_type": "code",
      "metadata": {
        "colab": {
          "base_uri": "https://localhost:8080/",
          "height": 704
        },
        "id": "axzSXT6SEPkt",
        "outputId": "10747505-1c4a-4261-bb04-747964f43c5d"
      },
      "source": [
        "# Confusion matrix and Classification report\n",
        "\n",
        "y_pred = np.array(list(map(lambda x: np.argmax(x), model.predict(X_test))))\n",
        "\n",
        "cm = confusion_matrix(y_test, y_pred)\n",
        "clr = classification_report(y_test, y_pred)\n",
        "\n",
        "plt.figure(figsize=(8,8))\n",
        "sns.heatmap(cm, annot=True, vmin=0, fmt='g', cbar=False, cmap='Blues')\n",
        "plt.xlabel('Predicted')\n",
        "plt.ylabel('Actual')\n",
        "plt.title('Confusion Matrix')\n",
        "plt.show()\n",
        "\n",
        "print('Classifcation Report:\\n', clr)"
      ],
      "execution_count": 44,
      "outputs": [
        {
          "output_type": "display_data",
          "data": {
            "image/png": "[encoded data removed]",
            "text/plain": [
              "<Figure size 576x576 with 1 Axes>"
            ]
          },
          "metadata": {
            "needs_background": "light"
          }
        },
        {
          "output_type": "stream",
          "name": "stdout",
          "text": [
            "Classifcation Report:\n",
            "               precision    recall  f1-score   support\n",
            "\n",
            "           0       0.98      0.96      0.97       142\n",
            "           1       1.00      1.00      1.00       143\n",
            "           2       0.97      0.98      0.97       142\n",
            "\n",
            "    accuracy                           0.98       427\n",
            "   macro avg       0.98      0.98      0.98       427\n",
            "weighted avg       0.98      0.98      0.98       427\n",
            "\n"
          ]
        }
      ]
    }
  ]
}